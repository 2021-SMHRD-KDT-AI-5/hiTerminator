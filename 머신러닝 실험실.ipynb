{
 "cells": [
  {
   "cell_type": "code",
   "execution_count": 1,
   "metadata": {},
   "outputs": [],
   "source": [
    "import numpy as np\n",
    "import pandas as pd\n",
    "from konlpy.tag import Kkma\n",
    "from sklearn.model_selection import train_test_split    # X스플릿\n",
    "from sklearn.tree import DecisionTreeClassifier         # 디시전트리\n",
    "from sklearn.model_selection import cross_val_score     # 교차검증\n",
    "from sklearn.neighbors import KNeighborsClassifier      # KNN\n",
    "from sklearn.ensemble import RandomForestClassifier     # 랜덤포레스트\n",
    "from sklearn.model_selection import GridSearchCV        # 그리드서치\n",
    "from sklearn.preprocessing import StandardScaler        # 스탠다드스케일러\n",
    "from sklearn.preprocessing import RobustScaler          # 로버스트 스케일러\n",
    "from sklearn.preprocessing import MinMaxScaler          # 민맥스 스케일러\n",
    "from sklearn.preprocessing import Normalizer            # 노멀라이저 스케일러\n",
    "from sklearn.ensemble import VotingClassifier           # 보팅\n",
    "from sklearn.ensemble import AdaBoostClassifier         # 에이다부스팅\n",
    "from sklearn.ensemble import GradientBoostingClassifier # 그래디언트부스팅\n",
    "from sklearn.model_selection import RandomizedSearchCV  # 랜덤서치\n",
    "from xgboost import XGBClassifier                       # XGBoost\n",
    "from sklearn.metrics import accuracy_score, recall_score, precision_score, f1_score"
   ]
  },
  {
   "cell_type": "code",
   "execution_count": 169,
   "metadata": {},
   "outputs": [],
   "source": [
    "# !pip install xgboost"
   ]
  },
  {
   "cell_type": "code",
   "execution_count": 5,
   "metadata": {},
   "outputs": [],
   "source": [
    "data = pd.read_csv('최종학습데이터.csv', encoding='cp949')"
   ]
  },
  {
   "cell_type": "code",
   "execution_count": 6,
   "metadata": {},
   "outputs": [
    {
     "data": {
      "text/html": [
       "<div>\n",
       "<style scoped>\n",
       "    .dataframe tbody tr th:only-of-type {\n",
       "        vertical-align: middle;\n",
       "    }\n",
       "\n",
       "    .dataframe tbody tr th {\n",
       "        vertical-align: top;\n",
       "    }\n",
       "\n",
       "    .dataframe thead th {\n",
       "        text-align: right;\n",
       "    }\n",
       "</style>\n",
       "<table border=\"1\" class=\"dataframe\">\n",
       "  <thead>\n",
       "    <tr style=\"text-align: right;\">\n",
       "      <th></th>\n",
       "      <th>웹툰 제목</th>\n",
       "      <th>회차 제목</th>\n",
       "      <th>회차</th>\n",
       "      <th>조회수</th>\n",
       "      <th>회차별 별점</th>\n",
       "      <th>별점 참여인원수</th>\n",
       "      <th>좋아요수</th>\n",
       "      <th>댓글수</th>\n",
       "      <th>정식연재</th>\n",
       "      <th>조회수 대비 별점참여</th>\n",
       "      <th>...</th>\n",
       "      <th>일상</th>\n",
       "      <th>개그</th>\n",
       "      <th>판타지</th>\n",
       "      <th>액션</th>\n",
       "      <th>드라마</th>\n",
       "      <th>순정</th>\n",
       "      <th>감성</th>\n",
       "      <th>스릴러</th>\n",
       "      <th>시대극</th>\n",
       "      <th>스포츠</th>\n",
       "    </tr>\n",
       "  </thead>\n",
       "  <tbody>\n",
       "    <tr>\n",
       "      <th>0</th>\n",
       "      <td>팬시x팬시</td>\n",
       "      <td>1화</td>\n",
       "      <td>1</td>\n",
       "      <td>69288</td>\n",
       "      <td>9.47</td>\n",
       "      <td>559</td>\n",
       "      <td>693</td>\n",
       "      <td>138</td>\n",
       "      <td>1</td>\n",
       "      <td>8.067775</td>\n",
       "      <td>...</td>\n",
       "      <td>0</td>\n",
       "      <td>1</td>\n",
       "      <td>0</td>\n",
       "      <td>0</td>\n",
       "      <td>0</td>\n",
       "      <td>1</td>\n",
       "      <td>0</td>\n",
       "      <td>0</td>\n",
       "      <td>0</td>\n",
       "      <td>0</td>\n",
       "    </tr>\n",
       "    <tr>\n",
       "      <th>1</th>\n",
       "      <td>팬시x팬시</td>\n",
       "      <td>2화</td>\n",
       "      <td>2</td>\n",
       "      <td>47876</td>\n",
       "      <td>9.48</td>\n",
       "      <td>418</td>\n",
       "      <td>561</td>\n",
       "      <td>55</td>\n",
       "      <td>1</td>\n",
       "      <td>8.730888</td>\n",
       "      <td>...</td>\n",
       "      <td>0</td>\n",
       "      <td>1</td>\n",
       "      <td>0</td>\n",
       "      <td>0</td>\n",
       "      <td>0</td>\n",
       "      <td>1</td>\n",
       "      <td>0</td>\n",
       "      <td>0</td>\n",
       "      <td>0</td>\n",
       "      <td>0</td>\n",
       "    </tr>\n",
       "    <tr>\n",
       "      <th>2</th>\n",
       "      <td>팬시x팬시</td>\n",
       "      <td>3화</td>\n",
       "      <td>3</td>\n",
       "      <td>43907</td>\n",
       "      <td>9.40</td>\n",
       "      <td>419</td>\n",
       "      <td>521</td>\n",
       "      <td>47</td>\n",
       "      <td>1</td>\n",
       "      <td>9.542897</td>\n",
       "      <td>...</td>\n",
       "      <td>0</td>\n",
       "      <td>1</td>\n",
       "      <td>0</td>\n",
       "      <td>0</td>\n",
       "      <td>0</td>\n",
       "      <td>1</td>\n",
       "      <td>0</td>\n",
       "      <td>0</td>\n",
       "      <td>0</td>\n",
       "      <td>0</td>\n",
       "    </tr>\n",
       "    <tr>\n",
       "      <th>3</th>\n",
       "      <td>팬시x팬시</td>\n",
       "      <td>4화</td>\n",
       "      <td>4</td>\n",
       "      <td>42601</td>\n",
       "      <td>9.40</td>\n",
       "      <td>420</td>\n",
       "      <td>525</td>\n",
       "      <td>47</td>\n",
       "      <td>1</td>\n",
       "      <td>9.858923</td>\n",
       "      <td>...</td>\n",
       "      <td>0</td>\n",
       "      <td>1</td>\n",
       "      <td>0</td>\n",
       "      <td>0</td>\n",
       "      <td>0</td>\n",
       "      <td>1</td>\n",
       "      <td>0</td>\n",
       "      <td>0</td>\n",
       "      <td>0</td>\n",
       "      <td>0</td>\n",
       "    </tr>\n",
       "    <tr>\n",
       "      <th>4</th>\n",
       "      <td>팬시x팬시</td>\n",
       "      <td>5화</td>\n",
       "      <td>5</td>\n",
       "      <td>41786</td>\n",
       "      <td>9.41</td>\n",
       "      <td>366</td>\n",
       "      <td>510</td>\n",
       "      <td>49</td>\n",
       "      <td>1</td>\n",
       "      <td>8.758914</td>\n",
       "      <td>...</td>\n",
       "      <td>0</td>\n",
       "      <td>1</td>\n",
       "      <td>0</td>\n",
       "      <td>0</td>\n",
       "      <td>0</td>\n",
       "      <td>1</td>\n",
       "      <td>0</td>\n",
       "      <td>0</td>\n",
       "      <td>0</td>\n",
       "      <td>0</td>\n",
       "    </tr>\n",
       "    <tr>\n",
       "      <th>...</th>\n",
       "      <td>...</td>\n",
       "      <td>...</td>\n",
       "      <td>...</td>\n",
       "      <td>...</td>\n",
       "      <td>...</td>\n",
       "      <td>...</td>\n",
       "      <td>...</td>\n",
       "      <td>...</td>\n",
       "      <td>...</td>\n",
       "      <td>...</td>\n",
       "      <td>...</td>\n",
       "      <td>...</td>\n",
       "      <td>...</td>\n",
       "      <td>...</td>\n",
       "      <td>...</td>\n",
       "      <td>...</td>\n",
       "      <td>...</td>\n",
       "      <td>...</td>\n",
       "      <td>...</td>\n",
       "      <td>...</td>\n",
       "      <td>...</td>\n",
       "    </tr>\n",
       "    <tr>\n",
       "      <th>2344</th>\n",
       "      <td>포션 매니아</td>\n",
       "      <td>1EP-1</td>\n",
       "      <td>1</td>\n",
       "      <td>3174</td>\n",
       "      <td>9.55</td>\n",
       "      <td>1050</td>\n",
       "      <td>5</td>\n",
       "      <td>256</td>\n",
       "      <td>0</td>\n",
       "      <td>330.812854</td>\n",
       "      <td>...</td>\n",
       "      <td>0</td>\n",
       "      <td>0</td>\n",
       "      <td>1</td>\n",
       "      <td>0</td>\n",
       "      <td>1</td>\n",
       "      <td>0</td>\n",
       "      <td>0</td>\n",
       "      <td>0</td>\n",
       "      <td>0</td>\n",
       "      <td>0</td>\n",
       "    </tr>\n",
       "    <tr>\n",
       "      <th>2345</th>\n",
       "      <td>포션 매니아</td>\n",
       "      <td>1EP-2</td>\n",
       "      <td>2</td>\n",
       "      <td>1731</td>\n",
       "      <td>9.62</td>\n",
       "      <td>920</td>\n",
       "      <td>5</td>\n",
       "      <td>116</td>\n",
       "      <td>0</td>\n",
       "      <td>531.484691</td>\n",
       "      <td>...</td>\n",
       "      <td>0</td>\n",
       "      <td>0</td>\n",
       "      <td>1</td>\n",
       "      <td>0</td>\n",
       "      <td>1</td>\n",
       "      <td>0</td>\n",
       "      <td>0</td>\n",
       "      <td>0</td>\n",
       "      <td>0</td>\n",
       "      <td>0</td>\n",
       "    </tr>\n",
       "    <tr>\n",
       "      <th>2346</th>\n",
       "      <td>포션 매니아</td>\n",
       "      <td>1EP-3 해결편</td>\n",
       "      <td>3</td>\n",
       "      <td>555</td>\n",
       "      <td>9.64</td>\n",
       "      <td>934</td>\n",
       "      <td>3</td>\n",
       "      <td>185</td>\n",
       "      <td>0</td>\n",
       "      <td>1682.882883</td>\n",
       "      <td>...</td>\n",
       "      <td>0</td>\n",
       "      <td>0</td>\n",
       "      <td>1</td>\n",
       "      <td>0</td>\n",
       "      <td>1</td>\n",
       "      <td>0</td>\n",
       "      <td>0</td>\n",
       "      <td>0</td>\n",
       "      <td>0</td>\n",
       "      <td>0</td>\n",
       "    </tr>\n",
       "    <tr>\n",
       "      <th>2347</th>\n",
       "      <td>포션 매니아</td>\n",
       "      <td>2EP-1</td>\n",
       "      <td>4</td>\n",
       "      <td>261</td>\n",
       "      <td>9.63</td>\n",
       "      <td>902</td>\n",
       "      <td>2</td>\n",
       "      <td>193</td>\n",
       "      <td>0</td>\n",
       "      <td>3455.938697</td>\n",
       "      <td>...</td>\n",
       "      <td>0</td>\n",
       "      <td>0</td>\n",
       "      <td>1</td>\n",
       "      <td>0</td>\n",
       "      <td>1</td>\n",
       "      <td>0</td>\n",
       "      <td>0</td>\n",
       "      <td>0</td>\n",
       "      <td>0</td>\n",
       "      <td>0</td>\n",
       "    </tr>\n",
       "    <tr>\n",
       "      <th>2348</th>\n",
       "      <td>포션 매니아</td>\n",
       "      <td>2EP-2</td>\n",
       "      <td>5</td>\n",
       "      <td>127</td>\n",
       "      <td>9.68</td>\n",
       "      <td>817</td>\n",
       "      <td>1</td>\n",
       "      <td>138</td>\n",
       "      <td>0</td>\n",
       "      <td>6433.070866</td>\n",
       "      <td>...</td>\n",
       "      <td>0</td>\n",
       "      <td>0</td>\n",
       "      <td>1</td>\n",
       "      <td>0</td>\n",
       "      <td>1</td>\n",
       "      <td>0</td>\n",
       "      <td>0</td>\n",
       "      <td>0</td>\n",
       "      <td>0</td>\n",
       "      <td>0</td>\n",
       "    </tr>\n",
       "  </tbody>\n",
       "</table>\n",
       "<p>2349 rows × 26 columns</p>\n",
       "</div>"
      ],
      "text/plain": [
       "       웹툰 제목      회차 제목  회차    조회수  회차별 별점  별점 참여인원수  좋아요수  댓글수  정식연재  \\\n",
       "0      팬시x팬시         1화   1  69288    9.47       559   693  138     1   \n",
       "1      팬시x팬시         2화   2  47876    9.48       418   561   55     1   \n",
       "2      팬시x팬시         3화   3  43907    9.40       419   521   47     1   \n",
       "3      팬시x팬시         4화   4  42601    9.40       420   525   47     1   \n",
       "4      팬시x팬시         5화   5  41786    9.41       366   510   49     1   \n",
       "...      ...        ...  ..    ...     ...       ...   ...  ...   ...   \n",
       "2344  포션 매니아      1EP-1   1   3174    9.55      1050     5  256     0   \n",
       "2345  포션 매니아      1EP-2   2   1731    9.62       920     5  116     0   \n",
       "2346  포션 매니아  1EP-3 해결편   3    555    9.64       934     3  185     0   \n",
       "2347  포션 매니아      2EP-1   4    261    9.63       902     2  193     0   \n",
       "2348  포션 매니아      2EP-2   5    127    9.68       817     1  138     0   \n",
       "\n",
       "      조회수 대비 별점참여  ...  일상  개그  판타지  액션  드라마  순정  감성  스릴러  시대극  스포츠  \n",
       "0        8.067775  ...   0   1    0   0    0   1   0    0    0    0  \n",
       "1        8.730888  ...   0   1    0   0    0   1   0    0    0    0  \n",
       "2        9.542897  ...   0   1    0   0    0   1   0    0    0    0  \n",
       "3        9.858923  ...   0   1    0   0    0   1   0    0    0    0  \n",
       "4        8.758914  ...   0   1    0   0    0   1   0    0    0    0  \n",
       "...           ...  ...  ..  ..  ...  ..  ...  ..  ..  ...  ...  ...  \n",
       "2344   330.812854  ...   0   0    1   0    1   0   0    0    0    0  \n",
       "2345   531.484691  ...   0   0    1   0    1   0   0    0    0    0  \n",
       "2346  1682.882883  ...   0   0    1   0    1   0   0    0    0    0  \n",
       "2347  3455.938697  ...   0   0    1   0    1   0   0    0    0    0  \n",
       "2348  6433.070866  ...   0   0    1   0    1   0   0    0    0    0  \n",
       "\n",
       "[2349 rows x 26 columns]"
      ]
     },
     "execution_count": 6,
     "metadata": {},
     "output_type": "execute_result"
    }
   ],
   "source": [
    "data"
   ]
  },
  {
   "cell_type": "code",
   "execution_count": 7,
   "metadata": {},
   "outputs": [],
   "source": [
    "# 제목화 회차 제목을 인덱스로 지정\n",
    "data.index = [data.iloc[:,0],data.iloc[:,1]]"
   ]
  },
  {
   "cell_type": "code",
   "execution_count": 8,
   "metadata": {
    "scrolled": true
   },
   "outputs": [
    {
     "data": {
      "text/html": [
       "<div>\n",
       "<style scoped>\n",
       "    .dataframe tbody tr th:only-of-type {\n",
       "        vertical-align: middle;\n",
       "    }\n",
       "\n",
       "    .dataframe tbody tr th {\n",
       "        vertical-align: top;\n",
       "    }\n",
       "\n",
       "    .dataframe thead th {\n",
       "        text-align: right;\n",
       "    }\n",
       "</style>\n",
       "<table border=\"1\" class=\"dataframe\">\n",
       "  <thead>\n",
       "    <tr style=\"text-align: right;\">\n",
       "      <th></th>\n",
       "      <th></th>\n",
       "      <th>웹툰 제목</th>\n",
       "      <th>회차 제목</th>\n",
       "      <th>회차</th>\n",
       "      <th>조회수</th>\n",
       "      <th>회차별 별점</th>\n",
       "      <th>별점 참여인원수</th>\n",
       "      <th>좋아요수</th>\n",
       "      <th>댓글수</th>\n",
       "      <th>정식연재</th>\n",
       "      <th>조회수 대비 별점참여</th>\n",
       "      <th>...</th>\n",
       "      <th>일상</th>\n",
       "      <th>개그</th>\n",
       "      <th>판타지</th>\n",
       "      <th>액션</th>\n",
       "      <th>드라마</th>\n",
       "      <th>순정</th>\n",
       "      <th>감성</th>\n",
       "      <th>스릴러</th>\n",
       "      <th>시대극</th>\n",
       "      <th>스포츠</th>\n",
       "    </tr>\n",
       "    <tr>\n",
       "      <th>웹툰 제목</th>\n",
       "      <th>회차 제목</th>\n",
       "      <th></th>\n",
       "      <th></th>\n",
       "      <th></th>\n",
       "      <th></th>\n",
       "      <th></th>\n",
       "      <th></th>\n",
       "      <th></th>\n",
       "      <th></th>\n",
       "      <th></th>\n",
       "      <th></th>\n",
       "      <th></th>\n",
       "      <th></th>\n",
       "      <th></th>\n",
       "      <th></th>\n",
       "      <th></th>\n",
       "      <th></th>\n",
       "      <th></th>\n",
       "      <th></th>\n",
       "      <th></th>\n",
       "      <th></th>\n",
       "      <th></th>\n",
       "    </tr>\n",
       "  </thead>\n",
       "  <tbody>\n",
       "    <tr>\n",
       "      <th rowspan=\"5\" valign=\"top\">팬시x팬시</th>\n",
       "      <th>1화</th>\n",
       "      <td>팬시x팬시</td>\n",
       "      <td>1화</td>\n",
       "      <td>1</td>\n",
       "      <td>69288</td>\n",
       "      <td>9.47</td>\n",
       "      <td>559</td>\n",
       "      <td>693</td>\n",
       "      <td>138</td>\n",
       "      <td>1</td>\n",
       "      <td>8.067775</td>\n",
       "      <td>...</td>\n",
       "      <td>0</td>\n",
       "      <td>1</td>\n",
       "      <td>0</td>\n",
       "      <td>0</td>\n",
       "      <td>0</td>\n",
       "      <td>1</td>\n",
       "      <td>0</td>\n",
       "      <td>0</td>\n",
       "      <td>0</td>\n",
       "      <td>0</td>\n",
       "    </tr>\n",
       "    <tr>\n",
       "      <th>2화</th>\n",
       "      <td>팬시x팬시</td>\n",
       "      <td>2화</td>\n",
       "      <td>2</td>\n",
       "      <td>47876</td>\n",
       "      <td>9.48</td>\n",
       "      <td>418</td>\n",
       "      <td>561</td>\n",
       "      <td>55</td>\n",
       "      <td>1</td>\n",
       "      <td>8.730888</td>\n",
       "      <td>...</td>\n",
       "      <td>0</td>\n",
       "      <td>1</td>\n",
       "      <td>0</td>\n",
       "      <td>0</td>\n",
       "      <td>0</td>\n",
       "      <td>1</td>\n",
       "      <td>0</td>\n",
       "      <td>0</td>\n",
       "      <td>0</td>\n",
       "      <td>0</td>\n",
       "    </tr>\n",
       "    <tr>\n",
       "      <th>3화</th>\n",
       "      <td>팬시x팬시</td>\n",
       "      <td>3화</td>\n",
       "      <td>3</td>\n",
       "      <td>43907</td>\n",
       "      <td>9.40</td>\n",
       "      <td>419</td>\n",
       "      <td>521</td>\n",
       "      <td>47</td>\n",
       "      <td>1</td>\n",
       "      <td>9.542897</td>\n",
       "      <td>...</td>\n",
       "      <td>0</td>\n",
       "      <td>1</td>\n",
       "      <td>0</td>\n",
       "      <td>0</td>\n",
       "      <td>0</td>\n",
       "      <td>1</td>\n",
       "      <td>0</td>\n",
       "      <td>0</td>\n",
       "      <td>0</td>\n",
       "      <td>0</td>\n",
       "    </tr>\n",
       "    <tr>\n",
       "      <th>4화</th>\n",
       "      <td>팬시x팬시</td>\n",
       "      <td>4화</td>\n",
       "      <td>4</td>\n",
       "      <td>42601</td>\n",
       "      <td>9.40</td>\n",
       "      <td>420</td>\n",
       "      <td>525</td>\n",
       "      <td>47</td>\n",
       "      <td>1</td>\n",
       "      <td>9.858923</td>\n",
       "      <td>...</td>\n",
       "      <td>0</td>\n",
       "      <td>1</td>\n",
       "      <td>0</td>\n",
       "      <td>0</td>\n",
       "      <td>0</td>\n",
       "      <td>1</td>\n",
       "      <td>0</td>\n",
       "      <td>0</td>\n",
       "      <td>0</td>\n",
       "      <td>0</td>\n",
       "    </tr>\n",
       "    <tr>\n",
       "      <th>5화</th>\n",
       "      <td>팬시x팬시</td>\n",
       "      <td>5화</td>\n",
       "      <td>5</td>\n",
       "      <td>41786</td>\n",
       "      <td>9.41</td>\n",
       "      <td>366</td>\n",
       "      <td>510</td>\n",
       "      <td>49</td>\n",
       "      <td>1</td>\n",
       "      <td>8.758914</td>\n",
       "      <td>...</td>\n",
       "      <td>0</td>\n",
       "      <td>1</td>\n",
       "      <td>0</td>\n",
       "      <td>0</td>\n",
       "      <td>0</td>\n",
       "      <td>1</td>\n",
       "      <td>0</td>\n",
       "      <td>0</td>\n",
       "      <td>0</td>\n",
       "      <td>0</td>\n",
       "    </tr>\n",
       "    <tr>\n",
       "      <th>...</th>\n",
       "      <th>...</th>\n",
       "      <td>...</td>\n",
       "      <td>...</td>\n",
       "      <td>...</td>\n",
       "      <td>...</td>\n",
       "      <td>...</td>\n",
       "      <td>...</td>\n",
       "      <td>...</td>\n",
       "      <td>...</td>\n",
       "      <td>...</td>\n",
       "      <td>...</td>\n",
       "      <td>...</td>\n",
       "      <td>...</td>\n",
       "      <td>...</td>\n",
       "      <td>...</td>\n",
       "      <td>...</td>\n",
       "      <td>...</td>\n",
       "      <td>...</td>\n",
       "      <td>...</td>\n",
       "      <td>...</td>\n",
       "      <td>...</td>\n",
       "      <td>...</td>\n",
       "    </tr>\n",
       "    <tr>\n",
       "      <th rowspan=\"5\" valign=\"top\">포션 매니아</th>\n",
       "      <th>1EP-1</th>\n",
       "      <td>포션 매니아</td>\n",
       "      <td>1EP-1</td>\n",
       "      <td>1</td>\n",
       "      <td>3174</td>\n",
       "      <td>9.55</td>\n",
       "      <td>1050</td>\n",
       "      <td>5</td>\n",
       "      <td>256</td>\n",
       "      <td>0</td>\n",
       "      <td>330.812854</td>\n",
       "      <td>...</td>\n",
       "      <td>0</td>\n",
       "      <td>0</td>\n",
       "      <td>1</td>\n",
       "      <td>0</td>\n",
       "      <td>1</td>\n",
       "      <td>0</td>\n",
       "      <td>0</td>\n",
       "      <td>0</td>\n",
       "      <td>0</td>\n",
       "      <td>0</td>\n",
       "    </tr>\n",
       "    <tr>\n",
       "      <th>1EP-2</th>\n",
       "      <td>포션 매니아</td>\n",
       "      <td>1EP-2</td>\n",
       "      <td>2</td>\n",
       "      <td>1731</td>\n",
       "      <td>9.62</td>\n",
       "      <td>920</td>\n",
       "      <td>5</td>\n",
       "      <td>116</td>\n",
       "      <td>0</td>\n",
       "      <td>531.484691</td>\n",
       "      <td>...</td>\n",
       "      <td>0</td>\n",
       "      <td>0</td>\n",
       "      <td>1</td>\n",
       "      <td>0</td>\n",
       "      <td>1</td>\n",
       "      <td>0</td>\n",
       "      <td>0</td>\n",
       "      <td>0</td>\n",
       "      <td>0</td>\n",
       "      <td>0</td>\n",
       "    </tr>\n",
       "    <tr>\n",
       "      <th>1EP-3 해결편</th>\n",
       "      <td>포션 매니아</td>\n",
       "      <td>1EP-3 해결편</td>\n",
       "      <td>3</td>\n",
       "      <td>555</td>\n",
       "      <td>9.64</td>\n",
       "      <td>934</td>\n",
       "      <td>3</td>\n",
       "      <td>185</td>\n",
       "      <td>0</td>\n",
       "      <td>1682.882883</td>\n",
       "      <td>...</td>\n",
       "      <td>0</td>\n",
       "      <td>0</td>\n",
       "      <td>1</td>\n",
       "      <td>0</td>\n",
       "      <td>1</td>\n",
       "      <td>0</td>\n",
       "      <td>0</td>\n",
       "      <td>0</td>\n",
       "      <td>0</td>\n",
       "      <td>0</td>\n",
       "    </tr>\n",
       "    <tr>\n",
       "      <th>2EP-1</th>\n",
       "      <td>포션 매니아</td>\n",
       "      <td>2EP-1</td>\n",
       "      <td>4</td>\n",
       "      <td>261</td>\n",
       "      <td>9.63</td>\n",
       "      <td>902</td>\n",
       "      <td>2</td>\n",
       "      <td>193</td>\n",
       "      <td>0</td>\n",
       "      <td>3455.938697</td>\n",
       "      <td>...</td>\n",
       "      <td>0</td>\n",
       "      <td>0</td>\n",
       "      <td>1</td>\n",
       "      <td>0</td>\n",
       "      <td>1</td>\n",
       "      <td>0</td>\n",
       "      <td>0</td>\n",
       "      <td>0</td>\n",
       "      <td>0</td>\n",
       "      <td>0</td>\n",
       "    </tr>\n",
       "    <tr>\n",
       "      <th>2EP-2</th>\n",
       "      <td>포션 매니아</td>\n",
       "      <td>2EP-2</td>\n",
       "      <td>5</td>\n",
       "      <td>127</td>\n",
       "      <td>9.68</td>\n",
       "      <td>817</td>\n",
       "      <td>1</td>\n",
       "      <td>138</td>\n",
       "      <td>0</td>\n",
       "      <td>6433.070866</td>\n",
       "      <td>...</td>\n",
       "      <td>0</td>\n",
       "      <td>0</td>\n",
       "      <td>1</td>\n",
       "      <td>0</td>\n",
       "      <td>1</td>\n",
       "      <td>0</td>\n",
       "      <td>0</td>\n",
       "      <td>0</td>\n",
       "      <td>0</td>\n",
       "      <td>0</td>\n",
       "    </tr>\n",
       "  </tbody>\n",
       "</table>\n",
       "<p>2349 rows × 26 columns</p>\n",
       "</div>"
      ],
      "text/plain": [
       "                   웹툰 제목      회차 제목  회차    조회수  회차별 별점  별점 참여인원수  좋아요수  댓글수  \\\n",
       "웹툰 제목  회차 제목                                                                  \n",
       "팬시x팬시  1화          팬시x팬시         1화   1  69288    9.47       559   693  138   \n",
       "       2화          팬시x팬시         2화   2  47876    9.48       418   561   55   \n",
       "       3화          팬시x팬시         3화   3  43907    9.40       419   521   47   \n",
       "       4화          팬시x팬시         4화   4  42601    9.40       420   525   47   \n",
       "       5화          팬시x팬시         5화   5  41786    9.41       366   510   49   \n",
       "...                  ...        ...  ..    ...     ...       ...   ...  ...   \n",
       "포션 매니아 1EP-1      포션 매니아      1EP-1   1   3174    9.55      1050     5  256   \n",
       "       1EP-2      포션 매니아      1EP-2   2   1731    9.62       920     5  116   \n",
       "       1EP-3 해결편  포션 매니아  1EP-3 해결편   3    555    9.64       934     3  185   \n",
       "       2EP-1      포션 매니아      2EP-1   4    261    9.63       902     2  193   \n",
       "       2EP-2      포션 매니아      2EP-2   5    127    9.68       817     1  138   \n",
       "\n",
       "                  정식연재  조회수 대비 별점참여  ...  일상  개그  판타지  액션  드라마  순정  감성  스릴러  \\\n",
       "웹툰 제목  회차 제목                         ...                                      \n",
       "팬시x팬시  1화            1     8.067775  ...   0   1    0   0    0   1   0    0   \n",
       "       2화            1     8.730888  ...   0   1    0   0    0   1   0    0   \n",
       "       3화            1     9.542897  ...   0   1    0   0    0   1   0    0   \n",
       "       4화            1     9.858923  ...   0   1    0   0    0   1   0    0   \n",
       "       5화            1     8.758914  ...   0   1    0   0    0   1   0    0   \n",
       "...                ...          ...  ...  ..  ..  ...  ..  ...  ..  ..  ...   \n",
       "포션 매니아 1EP-1         0   330.812854  ...   0   0    1   0    1   0   0    0   \n",
       "       1EP-2         0   531.484691  ...   0   0    1   0    1   0   0    0   \n",
       "       1EP-3 해결편     0  1682.882883  ...   0   0    1   0    1   0   0    0   \n",
       "       2EP-1         0  3455.938697  ...   0   0    1   0    1   0   0    0   \n",
       "       2EP-2         0  6433.070866  ...   0   0    1   0    1   0   0    0   \n",
       "\n",
       "                  시대극  스포츠  \n",
       "웹툰 제목  회차 제목                \n",
       "팬시x팬시  1화           0    0  \n",
       "       2화           0    0  \n",
       "       3화           0    0  \n",
       "       4화           0    0  \n",
       "       5화           0    0  \n",
       "...               ...  ...  \n",
       "포션 매니아 1EP-1        0    0  \n",
       "       1EP-2        0    0  \n",
       "       1EP-3 해결편    0    0  \n",
       "       2EP-1        0    0  \n",
       "       2EP-2        0    0  \n",
       "\n",
       "[2349 rows x 26 columns]"
      ]
     },
     "execution_count": 8,
     "metadata": {},
     "output_type": "execute_result"
    }
   ],
   "source": [
    "data"
   ]
  },
  {
   "cell_type": "code",
   "execution_count": 9,
   "metadata": {},
   "outputs": [],
   "source": [
    "# 사용하지 않는 열 삭제\n",
    "data = data.drop('웹툰 제목', axis = 1)\n",
    "data = data.drop('회차 제목', axis = 1)\n",
    "# data = data.drop('등록일', axis = 1)"
   ]
  },
  {
   "cell_type": "code",
   "execution_count": 10,
   "metadata": {},
   "outputs": [
    {
     "data": {
      "text/html": [
       "<div>\n",
       "<style scoped>\n",
       "    .dataframe tbody tr th:only-of-type {\n",
       "        vertical-align: middle;\n",
       "    }\n",
       "\n",
       "    .dataframe tbody tr th {\n",
       "        vertical-align: top;\n",
       "    }\n",
       "\n",
       "    .dataframe thead th {\n",
       "        text-align: right;\n",
       "    }\n",
       "</style>\n",
       "<table border=\"1\" class=\"dataframe\">\n",
       "  <thead>\n",
       "    <tr style=\"text-align: right;\">\n",
       "      <th></th>\n",
       "      <th></th>\n",
       "      <th>회차</th>\n",
       "      <th>조회수</th>\n",
       "      <th>회차별 별점</th>\n",
       "      <th>별점 참여인원수</th>\n",
       "      <th>좋아요수</th>\n",
       "      <th>댓글수</th>\n",
       "      <th>정식연재</th>\n",
       "      <th>조회수 대비 별점참여</th>\n",
       "      <th>조회수 대비 좋아요</th>\n",
       "      <th>댓글수 대비 긍정댓글</th>\n",
       "      <th>...</th>\n",
       "      <th>일상</th>\n",
       "      <th>개그</th>\n",
       "      <th>판타지</th>\n",
       "      <th>액션</th>\n",
       "      <th>드라마</th>\n",
       "      <th>순정</th>\n",
       "      <th>감성</th>\n",
       "      <th>스릴러</th>\n",
       "      <th>시대극</th>\n",
       "      <th>스포츠</th>\n",
       "    </tr>\n",
       "    <tr>\n",
       "      <th>웹툰 제목</th>\n",
       "      <th>회차 제목</th>\n",
       "      <th></th>\n",
       "      <th></th>\n",
       "      <th></th>\n",
       "      <th></th>\n",
       "      <th></th>\n",
       "      <th></th>\n",
       "      <th></th>\n",
       "      <th></th>\n",
       "      <th></th>\n",
       "      <th></th>\n",
       "      <th></th>\n",
       "      <th></th>\n",
       "      <th></th>\n",
       "      <th></th>\n",
       "      <th></th>\n",
       "      <th></th>\n",
       "      <th></th>\n",
       "      <th></th>\n",
       "      <th></th>\n",
       "      <th></th>\n",
       "      <th></th>\n",
       "    </tr>\n",
       "  </thead>\n",
       "  <tbody>\n",
       "    <tr>\n",
       "      <th rowspan=\"5\" valign=\"top\">팬시x팬시</th>\n",
       "      <th>1화</th>\n",
       "      <td>1</td>\n",
       "      <td>69288</td>\n",
       "      <td>9.47</td>\n",
       "      <td>559</td>\n",
       "      <td>693</td>\n",
       "      <td>138</td>\n",
       "      <td>1</td>\n",
       "      <td>8.067775</td>\n",
       "      <td>10.001732</td>\n",
       "      <td>45.652174</td>\n",
       "      <td>...</td>\n",
       "      <td>0</td>\n",
       "      <td>1</td>\n",
       "      <td>0</td>\n",
       "      <td>0</td>\n",
       "      <td>0</td>\n",
       "      <td>1</td>\n",
       "      <td>0</td>\n",
       "      <td>0</td>\n",
       "      <td>0</td>\n",
       "      <td>0</td>\n",
       "    </tr>\n",
       "    <tr>\n",
       "      <th>2화</th>\n",
       "      <td>2</td>\n",
       "      <td>47876</td>\n",
       "      <td>9.48</td>\n",
       "      <td>418</td>\n",
       "      <td>561</td>\n",
       "      <td>55</td>\n",
       "      <td>1</td>\n",
       "      <td>8.730888</td>\n",
       "      <td>11.717771</td>\n",
       "      <td>49.090909</td>\n",
       "      <td>...</td>\n",
       "      <td>0</td>\n",
       "      <td>1</td>\n",
       "      <td>0</td>\n",
       "      <td>0</td>\n",
       "      <td>0</td>\n",
       "      <td>1</td>\n",
       "      <td>0</td>\n",
       "      <td>0</td>\n",
       "      <td>0</td>\n",
       "      <td>0</td>\n",
       "    </tr>\n",
       "    <tr>\n",
       "      <th>3화</th>\n",
       "      <td>3</td>\n",
       "      <td>43907</td>\n",
       "      <td>9.40</td>\n",
       "      <td>419</td>\n",
       "      <td>521</td>\n",
       "      <td>47</td>\n",
       "      <td>1</td>\n",
       "      <td>9.542897</td>\n",
       "      <td>11.865989</td>\n",
       "      <td>29.787234</td>\n",
       "      <td>...</td>\n",
       "      <td>0</td>\n",
       "      <td>1</td>\n",
       "      <td>0</td>\n",
       "      <td>0</td>\n",
       "      <td>0</td>\n",
       "      <td>1</td>\n",
       "      <td>0</td>\n",
       "      <td>0</td>\n",
       "      <td>0</td>\n",
       "      <td>0</td>\n",
       "    </tr>\n",
       "    <tr>\n",
       "      <th>4화</th>\n",
       "      <td>4</td>\n",
       "      <td>42601</td>\n",
       "      <td>9.40</td>\n",
       "      <td>420</td>\n",
       "      <td>525</td>\n",
       "      <td>47</td>\n",
       "      <td>1</td>\n",
       "      <td>9.858923</td>\n",
       "      <td>12.323654</td>\n",
       "      <td>42.553191</td>\n",
       "      <td>...</td>\n",
       "      <td>0</td>\n",
       "      <td>1</td>\n",
       "      <td>0</td>\n",
       "      <td>0</td>\n",
       "      <td>0</td>\n",
       "      <td>1</td>\n",
       "      <td>0</td>\n",
       "      <td>0</td>\n",
       "      <td>0</td>\n",
       "      <td>0</td>\n",
       "    </tr>\n",
       "    <tr>\n",
       "      <th>5화</th>\n",
       "      <td>5</td>\n",
       "      <td>41786</td>\n",
       "      <td>9.41</td>\n",
       "      <td>366</td>\n",
       "      <td>510</td>\n",
       "      <td>49</td>\n",
       "      <td>1</td>\n",
       "      <td>8.758914</td>\n",
       "      <td>12.205045</td>\n",
       "      <td>32.653061</td>\n",
       "      <td>...</td>\n",
       "      <td>0</td>\n",
       "      <td>1</td>\n",
       "      <td>0</td>\n",
       "      <td>0</td>\n",
       "      <td>0</td>\n",
       "      <td>1</td>\n",
       "      <td>0</td>\n",
       "      <td>0</td>\n",
       "      <td>0</td>\n",
       "      <td>0</td>\n",
       "    </tr>\n",
       "    <tr>\n",
       "      <th>...</th>\n",
       "      <th>...</th>\n",
       "      <td>...</td>\n",
       "      <td>...</td>\n",
       "      <td>...</td>\n",
       "      <td>...</td>\n",
       "      <td>...</td>\n",
       "      <td>...</td>\n",
       "      <td>...</td>\n",
       "      <td>...</td>\n",
       "      <td>...</td>\n",
       "      <td>...</td>\n",
       "      <td>...</td>\n",
       "      <td>...</td>\n",
       "      <td>...</td>\n",
       "      <td>...</td>\n",
       "      <td>...</td>\n",
       "      <td>...</td>\n",
       "      <td>...</td>\n",
       "      <td>...</td>\n",
       "      <td>...</td>\n",
       "      <td>...</td>\n",
       "      <td>...</td>\n",
       "    </tr>\n",
       "    <tr>\n",
       "      <th rowspan=\"5\" valign=\"top\">포션 매니아</th>\n",
       "      <th>1EP-1</th>\n",
       "      <td>1</td>\n",
       "      <td>3174</td>\n",
       "      <td>9.55</td>\n",
       "      <td>1050</td>\n",
       "      <td>5</td>\n",
       "      <td>256</td>\n",
       "      <td>0</td>\n",
       "      <td>330.812854</td>\n",
       "      <td>1.575299</td>\n",
       "      <td>36.718750</td>\n",
       "      <td>...</td>\n",
       "      <td>0</td>\n",
       "      <td>0</td>\n",
       "      <td>1</td>\n",
       "      <td>0</td>\n",
       "      <td>1</td>\n",
       "      <td>0</td>\n",
       "      <td>0</td>\n",
       "      <td>0</td>\n",
       "      <td>0</td>\n",
       "      <td>0</td>\n",
       "    </tr>\n",
       "    <tr>\n",
       "      <th>1EP-2</th>\n",
       "      <td>2</td>\n",
       "      <td>1731</td>\n",
       "      <td>9.62</td>\n",
       "      <td>920</td>\n",
       "      <td>5</td>\n",
       "      <td>116</td>\n",
       "      <td>0</td>\n",
       "      <td>531.484691</td>\n",
       "      <td>2.888504</td>\n",
       "      <td>31.034483</td>\n",
       "      <td>...</td>\n",
       "      <td>0</td>\n",
       "      <td>0</td>\n",
       "      <td>1</td>\n",
       "      <td>0</td>\n",
       "      <td>1</td>\n",
       "      <td>0</td>\n",
       "      <td>0</td>\n",
       "      <td>0</td>\n",
       "      <td>0</td>\n",
       "      <td>0</td>\n",
       "    </tr>\n",
       "    <tr>\n",
       "      <th>1EP-3 해결편</th>\n",
       "      <td>3</td>\n",
       "      <td>555</td>\n",
       "      <td>9.64</td>\n",
       "      <td>934</td>\n",
       "      <td>3</td>\n",
       "      <td>185</td>\n",
       "      <td>0</td>\n",
       "      <td>1682.882883</td>\n",
       "      <td>5.405405</td>\n",
       "      <td>37.297297</td>\n",
       "      <td>...</td>\n",
       "      <td>0</td>\n",
       "      <td>0</td>\n",
       "      <td>1</td>\n",
       "      <td>0</td>\n",
       "      <td>1</td>\n",
       "      <td>0</td>\n",
       "      <td>0</td>\n",
       "      <td>0</td>\n",
       "      <td>0</td>\n",
       "      <td>0</td>\n",
       "    </tr>\n",
       "    <tr>\n",
       "      <th>2EP-1</th>\n",
       "      <td>4</td>\n",
       "      <td>261</td>\n",
       "      <td>9.63</td>\n",
       "      <td>902</td>\n",
       "      <td>2</td>\n",
       "      <td>193</td>\n",
       "      <td>0</td>\n",
       "      <td>3455.938697</td>\n",
       "      <td>7.662835</td>\n",
       "      <td>31.088083</td>\n",
       "      <td>...</td>\n",
       "      <td>0</td>\n",
       "      <td>0</td>\n",
       "      <td>1</td>\n",
       "      <td>0</td>\n",
       "      <td>1</td>\n",
       "      <td>0</td>\n",
       "      <td>0</td>\n",
       "      <td>0</td>\n",
       "      <td>0</td>\n",
       "      <td>0</td>\n",
       "    </tr>\n",
       "    <tr>\n",
       "      <th>2EP-2</th>\n",
       "      <td>5</td>\n",
       "      <td>127</td>\n",
       "      <td>9.68</td>\n",
       "      <td>817</td>\n",
       "      <td>1</td>\n",
       "      <td>138</td>\n",
       "      <td>0</td>\n",
       "      <td>6433.070866</td>\n",
       "      <td>7.874016</td>\n",
       "      <td>22.463768</td>\n",
       "      <td>...</td>\n",
       "      <td>0</td>\n",
       "      <td>0</td>\n",
       "      <td>1</td>\n",
       "      <td>0</td>\n",
       "      <td>1</td>\n",
       "      <td>0</td>\n",
       "      <td>0</td>\n",
       "      <td>0</td>\n",
       "      <td>0</td>\n",
       "      <td>0</td>\n",
       "    </tr>\n",
       "  </tbody>\n",
       "</table>\n",
       "<p>2349 rows × 24 columns</p>\n",
       "</div>"
      ],
      "text/plain": [
       "                  회차    조회수  회차별 별점  별점 참여인원수  좋아요수  댓글수  정식연재  조회수 대비 별점참여  \\\n",
       "웹툰 제목  회차 제목                                                                  \n",
       "팬시x팬시  1화          1  69288    9.47       559   693  138     1     8.067775   \n",
       "       2화          2  47876    9.48       418   561   55     1     8.730888   \n",
       "       3화          3  43907    9.40       419   521   47     1     9.542897   \n",
       "       4화          4  42601    9.40       420   525   47     1     9.858923   \n",
       "       5화          5  41786    9.41       366   510   49     1     8.758914   \n",
       "...               ..    ...     ...       ...   ...  ...   ...          ...   \n",
       "포션 매니아 1EP-1       1   3174    9.55      1050     5  256     0   330.812854   \n",
       "       1EP-2       2   1731    9.62       920     5  116     0   531.484691   \n",
       "       1EP-3 해결편   3    555    9.64       934     3  185     0  1682.882883   \n",
       "       2EP-1       4    261    9.63       902     2  193     0  3455.938697   \n",
       "       2EP-2       5    127    9.68       817     1  138     0  6433.070866   \n",
       "\n",
       "                  조회수 대비 좋아요  댓글수 대비 긍정댓글  ...  일상  개그  판타지  액션  드라마  순정  감성  \\\n",
       "웹툰 제목  회차 제목                               ...                                 \n",
       "팬시x팬시  1화          10.001732    45.652174  ...   0   1    0   0    0   1   0   \n",
       "       2화          11.717771    49.090909  ...   0   1    0   0    0   1   0   \n",
       "       3화          11.865989    29.787234  ...   0   1    0   0    0   1   0   \n",
       "       4화          12.323654    42.553191  ...   0   1    0   0    0   1   0   \n",
       "       5화          12.205045    32.653061  ...   0   1    0   0    0   1   0   \n",
       "...                      ...          ...  ...  ..  ..  ...  ..  ...  ..  ..   \n",
       "포션 매니아 1EP-1        1.575299    36.718750  ...   0   0    1   0    1   0   0   \n",
       "       1EP-2        2.888504    31.034483  ...   0   0    1   0    1   0   0   \n",
       "       1EP-3 해결편    5.405405    37.297297  ...   0   0    1   0    1   0   0   \n",
       "       2EP-1        7.662835    31.088083  ...   0   0    1   0    1   0   0   \n",
       "       2EP-2        7.874016    22.463768  ...   0   0    1   0    1   0   0   \n",
       "\n",
       "                  스릴러  시대극  스포츠  \n",
       "웹툰 제목  회차 제목                     \n",
       "팬시x팬시  1화           0    0    0  \n",
       "       2화           0    0    0  \n",
       "       3화           0    0    0  \n",
       "       4화           0    0    0  \n",
       "       5화           0    0    0  \n",
       "...               ...  ...  ...  \n",
       "포션 매니아 1EP-1        0    0    0  \n",
       "       1EP-2        0    0    0  \n",
       "       1EP-3 해결편    0    0    0  \n",
       "       2EP-1        0    0    0  \n",
       "       2EP-2        0    0    0  \n",
       "\n",
       "[2349 rows x 24 columns]"
      ]
     },
     "execution_count": 10,
     "metadata": {},
     "output_type": "execute_result"
    }
   ],
   "source": [
    "data"
   ]
  },
  {
   "cell_type": "code",
   "execution_count": null,
   "metadata": {},
   "outputs": [],
   "source": []
  },
  {
   "cell_type": "code",
   "execution_count": 11,
   "metadata": {},
   "outputs": [],
   "source": [
    "# # 조회수, 별점 참여 인원수, 좋아요 수, 댓글 수 삭제\n",
    "# data2 = data.drop('조회수', axis = 1)\n",
    "# data2 = data2.drop('별점 참여인원수', axis = 1)\n",
    "# data2 = data2.drop('좋아요수', axis = 1)\n",
    "# data2 = data2.drop('댓글수', axis = 1)"
   ]
  },
  {
   "cell_type": "code",
   "execution_count": 12,
   "metadata": {},
   "outputs": [],
   "source": [
    "# 문제와 정답으로 나누기\n",
    "data_X = data.drop('정식연재', axis = 1)\n",
    "data_y = data['정식연재']"
   ]
  },
  {
   "cell_type": "code",
   "execution_count": 13,
   "metadata": {},
   "outputs": [],
   "source": [
    "# # 문제와 정답으로 나누기\n",
    "# data_X = data2.drop('정식연재', axis = 1)\n",
    "# data_y = data2['정식연재']"
   ]
  },
  {
   "cell_type": "code",
   "execution_count": 14,
   "metadata": {},
   "outputs": [],
   "source": [
    "# train, test 나누기\n",
    "X_train,X_test,y_train,y_test = train_test_split(data_X,data_y,\n",
    "                                random_state = 3,\n",
    "                                test_size = 0.3)"
   ]
  },
  {
   "cell_type": "markdown",
   "metadata": {},
   "source": [
    "### 디시전트리"
   ]
  },
  {
   "cell_type": "code",
   "execution_count": 180,
   "metadata": {},
   "outputs": [],
   "source": [
    "tree = DecisionTreeClassifier()"
   ]
  },
  {
   "cell_type": "code",
   "execution_count": 181,
   "metadata": {},
   "outputs": [
    {
     "data": {
      "text/plain": [
       "array([0.75379939, 0.76899696, 0.75683891, 0.75379939, 0.71646341])"
      ]
     },
     "execution_count": 181,
     "metadata": {},
     "output_type": "execute_result"
    }
   ],
   "source": [
    "# 교차검증\n",
    "result = cross_val_score(tree, X_train, y_train, cv=5)\n",
    "result"
   ]
  },
  {
   "cell_type": "code",
   "execution_count": 182,
   "metadata": {},
   "outputs": [
    {
     "data": {
      "text/plain": [
       "DecisionTreeClassifier()"
      ]
     },
     "execution_count": 182,
     "metadata": {},
     "output_type": "execute_result"
    }
   ],
   "source": [
    "# 학습\n",
    "tree.fit(X_train, y_train)"
   ]
  },
  {
   "cell_type": "code",
   "execution_count": 183,
   "metadata": {},
   "outputs": [
    {
     "data": {
      "text/plain": [
       "0.7730496453900709"
      ]
     },
     "execution_count": 183,
     "metadata": {},
     "output_type": "execute_result"
    }
   ],
   "source": [
    "# 평가\n",
    "tree.score(X_test, y_test)"
   ]
  },
  {
   "cell_type": "code",
   "execution_count": 184,
   "metadata": {
    "scrolled": true
   },
   "outputs": [
    {
     "data": {
      "text/plain": [
       "array([1, 0, 0, 0, 1, 0, 0, 0, 0, 0, 0, 0, 1, 0, 0, 1, 1, 0, 1, 0, 1, 0,\n",
       "       0, 0, 0, 0, 0, 0, 0, 0, 0, 0, 0, 0, 1, 0, 1, 0, 1, 0, 0, 0, 0, 0,\n",
       "       0, 0, 0, 1, 1, 0, 1, 0, 0, 1, 0, 0, 1, 0, 0, 1, 1, 0, 1, 1, 1, 0,\n",
       "       0, 1, 1, 0, 0, 0, 0, 1, 0, 0, 0, 0, 0, 1, 0, 0, 0, 0, 1, 0, 1, 1,\n",
       "       1, 1, 0, 1, 0, 0, 0, 0, 1, 1, 0, 0, 0, 1, 0, 0, 0, 0, 0, 1, 0, 0,\n",
       "       1, 1, 0, 0, 0, 1, 1, 1, 1, 0, 0, 0, 1, 0, 1, 1, 1, 0, 1, 1, 1, 0,\n",
       "       0, 1, 1, 1, 1, 1, 1, 1, 0, 0, 1, 0, 0, 1, 0, 1, 1, 1, 0, 0, 0, 1,\n",
       "       0, 0, 0, 1, 1, 0, 1, 0, 1, 0, 0, 1, 0, 0, 1, 0, 0, 1, 0, 1, 0, 0,\n",
       "       0, 1, 0, 1, 0, 0, 0, 1, 0, 0, 0, 0, 0, 0, 1, 1, 0, 0, 0, 1, 1, 0,\n",
       "       1, 1, 1, 1, 0, 0, 1, 1, 1, 0, 1, 1, 0, 0, 0, 0, 0, 0, 0, 0, 1, 0,\n",
       "       0, 1, 0, 0, 0, 0, 0, 1, 0, 1, 0, 0, 0, 0, 0, 0, 0, 1, 0, 1, 0, 1,\n",
       "       1, 1, 1, 0, 0, 0, 1, 0, 0, 0, 0, 0, 0, 1, 0, 0, 0, 1, 1, 0, 1, 0,\n",
       "       1, 1, 1, 0, 0, 1, 0, 1, 0, 0, 1, 0, 1, 1, 0, 1, 0, 1, 1, 1, 1, 0,\n",
       "       1, 1, 0, 0, 0, 0, 0, 1, 0, 1, 1, 0, 1, 1, 1, 0, 1, 1, 1, 1, 0, 0,\n",
       "       0, 0, 1, 0, 1, 0, 0, 0, 0, 0, 1, 0, 0, 0, 0, 0, 0, 0, 1, 0, 0, 1,\n",
       "       0, 1, 1, 1, 0, 1, 0, 0, 1, 0, 0, 0, 1, 0, 1, 0, 1, 1, 1, 1, 0, 0,\n",
       "       0, 0, 0, 0, 0, 1, 1, 0, 1, 0, 1, 1, 1, 1, 0, 1, 0, 0, 0, 0, 0, 1,\n",
       "       0, 0, 0, 1, 1, 0, 0, 1, 0, 1, 1, 1, 0, 1, 1, 0, 0, 1, 0, 1, 0, 1,\n",
       "       1, 0, 1, 0, 0, 1, 0, 1, 1, 0, 0, 1, 0, 0, 0, 1, 1, 0, 1, 1, 1, 0,\n",
       "       1, 1, 1, 0, 0, 0, 1, 0, 0, 0, 0, 0, 0, 0, 0, 0, 0, 0, 1, 1, 0, 1,\n",
       "       1, 0, 0, 0, 0, 1, 1, 0, 0, 1, 0, 0, 0, 0, 0, 1, 0, 0, 0, 0, 0, 1,\n",
       "       1, 0, 1, 0, 0, 0, 0, 0, 1, 1, 1, 1, 1, 0, 0, 0, 0, 1, 0, 1, 0, 0,\n",
       "       1, 0, 1, 0, 1, 0, 1, 0, 0, 0, 0, 1, 1, 1, 1, 1, 1, 0, 0, 0, 0, 0,\n",
       "       1, 1, 1, 0, 0, 1, 0, 0, 0, 0, 1, 0, 0, 1, 0, 1, 0, 1, 0, 1, 0, 1,\n",
       "       0, 1, 0, 0, 0, 0, 0, 0, 0, 0, 0, 1, 1, 1, 1, 0, 0, 0, 0, 0, 1, 0,\n",
       "       0, 1, 0, 1, 1, 0, 0, 1, 0, 1, 1, 0, 1, 0, 0, 0, 1, 0, 1, 1, 1, 0,\n",
       "       0, 0, 0, 0, 1, 0, 0, 1, 0, 0, 1, 1, 0, 0, 0, 0, 0, 0, 0, 1, 0, 0,\n",
       "       0, 0, 0, 1, 1, 0, 0, 0, 0, 1, 0, 1, 0, 0, 0, 0, 0, 0, 0, 1, 0, 1,\n",
       "       1, 0, 1, 0, 0, 1, 0, 1, 1, 0, 0, 0, 0, 0, 1, 0, 0, 1, 0, 1, 1, 0,\n",
       "       0, 1, 0, 0, 0, 0, 1, 0, 0, 0, 0, 0, 0, 1, 1, 1, 0, 1, 1, 0, 0, 1,\n",
       "       0, 0, 0, 0, 0, 1, 1, 0, 0, 1, 0, 0, 0, 0, 0, 0, 0, 0, 0, 1, 1, 1,\n",
       "       0, 1, 0, 1, 0, 1, 0, 1, 1, 0, 1, 0, 1, 1, 0, 0, 0, 1, 1, 0, 1, 0,\n",
       "       0], dtype=int64)"
      ]
     },
     "execution_count": 184,
     "metadata": {},
     "output_type": "execute_result"
    }
   ],
   "source": [
    "# 결과 예측 보기\n",
    "pre = tree.predict(X_test)\n",
    "pre"
   ]
  },
  {
   "cell_type": "markdown",
   "metadata": {},
   "source": [
    "### KNN "
   ]
  },
  {
   "cell_type": "code",
   "execution_count": 185,
   "metadata": {},
   "outputs": [],
   "source": [
    "knn = KNeighborsClassifier()"
   ]
  },
  {
   "cell_type": "code",
   "execution_count": 186,
   "metadata": {},
   "outputs": [
    {
     "data": {
      "text/plain": [
       "KNeighborsClassifier()"
      ]
     },
     "execution_count": 186,
     "metadata": {},
     "output_type": "execute_result"
    }
   ],
   "source": [
    "# 학습\n",
    "knn.fit(X_train,y_train)"
   ]
  },
  {
   "cell_type": "code",
   "execution_count": 187,
   "metadata": {},
   "outputs": [
    {
     "data": {
      "text/plain": [
       "array([0.64133739, 0.63221884, 0.65349544, 0.55015198, 0.63414634])"
      ]
     },
     "execution_count": 187,
     "metadata": {},
     "output_type": "execute_result"
    }
   ],
   "source": [
    "# 교차검증\n",
    "result = cross_val_score(knn, X_train, y_train, cv=5)\n",
    "result"
   ]
  },
  {
   "cell_type": "code",
   "execution_count": 188,
   "metadata": {},
   "outputs": [
    {
     "data": {
      "text/plain": [
       "0.6567375886524822"
      ]
     },
     "execution_count": 188,
     "metadata": {},
     "output_type": "execute_result"
    }
   ],
   "source": [
    "# 평가\n",
    "knn.score(X_test,y_test)"
   ]
  },
  {
   "cell_type": "code",
   "execution_count": 189,
   "metadata": {},
   "outputs": [
    {
     "data": {
      "text/html": [
       "<div>\n",
       "<style scoped>\n",
       "    .dataframe tbody tr th:only-of-type {\n",
       "        vertical-align: middle;\n",
       "    }\n",
       "\n",
       "    .dataframe tbody tr th {\n",
       "        vertical-align: top;\n",
       "    }\n",
       "\n",
       "    .dataframe thead th {\n",
       "        text-align: right;\n",
       "    }\n",
       "</style>\n",
       "<table border=\"1\" class=\"dataframe\">\n",
       "  <thead>\n",
       "    <tr style=\"text-align: right;\">\n",
       "      <th></th>\n",
       "      <th>점수</th>\n",
       "    </tr>\n",
       "  </thead>\n",
       "  <tbody>\n",
       "    <tr>\n",
       "      <th>34</th>\n",
       "      <td>0.693617</td>\n",
       "    </tr>\n",
       "    <tr>\n",
       "      <th>32</th>\n",
       "      <td>0.690780</td>\n",
       "    </tr>\n",
       "    <tr>\n",
       "      <th>30</th>\n",
       "      <td>0.690780</td>\n",
       "    </tr>\n",
       "    <tr>\n",
       "      <th>26</th>\n",
       "      <td>0.689362</td>\n",
       "    </tr>\n",
       "    <tr>\n",
       "      <th>24</th>\n",
       "      <td>0.686525</td>\n",
       "    </tr>\n",
       "    <tr>\n",
       "      <th>...</th>\n",
       "      <td>...</td>\n",
       "    </tr>\n",
       "    <tr>\n",
       "      <th>291</th>\n",
       "      <td>0.614184</td>\n",
       "    </tr>\n",
       "    <tr>\n",
       "      <th>282</th>\n",
       "      <td>0.614184</td>\n",
       "    </tr>\n",
       "    <tr>\n",
       "      <th>280</th>\n",
       "      <td>0.614184</td>\n",
       "    </tr>\n",
       "    <tr>\n",
       "      <th>290</th>\n",
       "      <td>0.611348</td>\n",
       "    </tr>\n",
       "    <tr>\n",
       "      <th>1</th>\n",
       "      <td>0.601418</td>\n",
       "    </tr>\n",
       "  </tbody>\n",
       "</table>\n",
       "<p>299 rows × 1 columns</p>\n",
       "</div>"
      ],
      "text/plain": [
       "           점수\n",
       "34   0.693617\n",
       "32   0.690780\n",
       "30   0.690780\n",
       "26   0.689362\n",
       "24   0.686525\n",
       "..        ...\n",
       "291  0.614184\n",
       "282  0.614184\n",
       "280  0.614184\n",
       "290  0.611348\n",
       "1    0.601418\n",
       "\n",
       "[299 rows x 1 columns]"
      ]
     },
     "execution_count": 189,
     "metadata": {},
     "output_type": "execute_result"
    }
   ],
   "source": [
    "# 성능 좋은 파라미터 찾기(이웃 수 기준)\n",
    "score_list = []\n",
    "k = []\n",
    "\n",
    "for i in range(1,300):\n",
    "    knn=KNeighborsClassifier(n_neighbors=i)\n",
    "    knn.fit(X_train,y_train)\n",
    "    score_list.append(knn.score(X_test,y_test))\n",
    "    k.append(i)\n",
    "    \n",
    "k_score = pd.DataFrame(score_list, k)\n",
    "k_score = k_score.rename(columns={k_score.columns[0]:\"점수\"})\n",
    "k_score.sort_values(by='점수', ascending = False)"
   ]
  },
  {
   "cell_type": "markdown",
   "metadata": {},
   "source": [
    "### RandomForest"
   ]
  },
  {
   "cell_type": "code",
   "execution_count": 244,
   "metadata": {},
   "outputs": [],
   "source": [
    "# forest = RandomForestClassifier(n_estimators=1000, # tree의 개수\n",
    "#                                       max_features=0.7, # 각각의 트리에서 사용할 특성의 개수\n",
    "#                                       max_depth=5,\n",
    "#                                       min_samples_leaf=15,\n",
    "#                                       max_leaf_nodes=50)\n",
    "forest = RandomForestClassifier(max_depth=17)"
   ]
  },
  {
   "cell_type": "code",
   "execution_count": 245,
   "metadata": {},
   "outputs": [
    {
     "data": {
      "text/plain": [
       "RandomForestClassifier(max_depth=17)"
      ]
     },
     "execution_count": 245,
     "metadata": {},
     "output_type": "execute_result"
    }
   ],
   "source": [
    "# 학습\n",
    "forest.fit(X_train,y_train)"
   ]
  },
  {
   "cell_type": "code",
   "execution_count": 246,
   "metadata": {},
   "outputs": [
    {
     "data": {
      "text/plain": [
       "0.861926384461413"
      ]
     },
     "execution_count": 246,
     "metadata": {},
     "output_type": "execute_result"
    }
   ],
   "source": [
    "# 교차검증\n",
    "cross_val_score(forest, X_train, y_train, cv=5).mean()"
   ]
  },
  {
   "cell_type": "code",
   "execution_count": 247,
   "metadata": {
    "scrolled": true
   },
   "outputs": [
    {
     "data": {
      "text/plain": [
       "0.8170212765957447"
      ]
     },
     "execution_count": 247,
     "metadata": {},
     "output_type": "execute_result"
    }
   ],
   "source": [
    "cross_val_score(forest, X_test, y_test, cv=5).mean()"
   ]
  },
  {
   "cell_type": "code",
   "execution_count": 248,
   "metadata": {},
   "outputs": [
    {
     "data": {
      "text/plain": [
       "0.8822695035460993"
      ]
     },
     "execution_count": 248,
     "metadata": {},
     "output_type": "execute_result"
    }
   ],
   "source": [
    "forest.score(X_test,y_test)"
   ]
  },
  {
   "cell_type": "code",
   "execution_count": 249,
   "metadata": {
    "collapsed": true
   },
   "outputs": [
    {
     "name": "stdout",
     "output_type": "stream",
     "text": [
      "0.8643524353176663 0.8212765957446809\n",
      "0.8661742901623544 0.8099290780141845\n",
      "0.8607031655422939 0.8198581560283686\n",
      "0.862530580472978 0.8156028368794326\n",
      "0.8607031655422936 0.8127659574468085\n",
      "0.8594892134331678 0.8170212765957446\n",
      "0.8582697012380459 0.8141843971631205\n",
      "0.8582715546000446 0.8113475177304965\n",
      "0.8643505819556676 0.8113475177304965\n",
      "0.8649658981392244 0.8085106382978724\n",
      "0.8558269701238045 0.8127659574468085\n",
      "0.8607050189042923 0.8241134751773049\n",
      "0.855226480836237 0.8198581560283689\n",
      "0.8631366298465416 0.8184397163120568\n",
      "0.8655719475127883 0.822695035460993\n",
      "0.8546241381866706 0.8212765957446809\n",
      "0.8631384832085403 0.8127659574468085\n",
      "0.8661798502483504 0.8113475177304963\n",
      "0.8564422863073615 0.8198581560283689\n",
      "0.8588683371636148 0.825531914893617\n",
      "0.8588850174216027 0.8198581560283689\n"
     ]
    }
   ],
   "source": [
    "for i in range(0,21):\n",
    "    print(cross_val_score(forest, X_train, y_train, cv=5).mean(), end=' ')\n",
    "    print(cross_val_score(forest, X_test, y_test, cv=5).mean())"
   ]
  },
  {
   "cell_type": "code",
   "execution_count": 239,
   "metadata": {
    "collapsed": true
   },
   "outputs": [
    {
     "data": {
      "text/html": [
       "<div>\n",
       "<style scoped>\n",
       "    .dataframe tbody tr th:only-of-type {\n",
       "        vertical-align: middle;\n",
       "    }\n",
       "\n",
       "    .dataframe tbody tr th {\n",
       "        vertical-align: top;\n",
       "    }\n",
       "\n",
       "    .dataframe thead th {\n",
       "        text-align: right;\n",
       "    }\n",
       "</style>\n",
       "<table border=\"1\" class=\"dataframe\">\n",
       "  <thead>\n",
       "    <tr style=\"text-align: right;\">\n",
       "      <th></th>\n",
       "      <th>중요도</th>\n",
       "    </tr>\n",
       "  </thead>\n",
       "  <tbody>\n",
       "    <tr>\n",
       "      <th>댓글수 대비 긍정댓글</th>\n",
       "      <td>0.168475</td>\n",
       "    </tr>\n",
       "    <tr>\n",
       "      <th>별점 참여인원수</th>\n",
       "      <td>0.109331</td>\n",
       "    </tr>\n",
       "    <tr>\n",
       "      <th>조회수 대비 좋아요</th>\n",
       "      <td>0.108490</td>\n",
       "    </tr>\n",
       "    <tr>\n",
       "      <th>댓글수</th>\n",
       "      <td>0.096630</td>\n",
       "    </tr>\n",
       "    <tr>\n",
       "      <th>조회수 대비 별점참여</th>\n",
       "      <td>0.084899</td>\n",
       "    </tr>\n",
       "    <tr>\n",
       "      <th>조회수</th>\n",
       "      <td>0.076600</td>\n",
       "    </tr>\n",
       "    <tr>\n",
       "      <th>댓글수 대비 부정댓글</th>\n",
       "      <td>0.071292</td>\n",
       "    </tr>\n",
       "    <tr>\n",
       "      <th>좋아요수</th>\n",
       "      <td>0.067834</td>\n",
       "    </tr>\n",
       "    <tr>\n",
       "      <th>회차별 별점</th>\n",
       "      <td>0.057337</td>\n",
       "    </tr>\n",
       "    <tr>\n",
       "      <th>회차</th>\n",
       "      <td>0.022475</td>\n",
       "    </tr>\n",
       "    <tr>\n",
       "      <th>판타지</th>\n",
       "      <td>0.021019</td>\n",
       "    </tr>\n",
       "    <tr>\n",
       "      <th>스릴러</th>\n",
       "      <td>0.016998</td>\n",
       "    </tr>\n",
       "    <tr>\n",
       "      <th>스토리</th>\n",
       "      <td>0.013177</td>\n",
       "    </tr>\n",
       "    <tr>\n",
       "      <th>감성</th>\n",
       "      <td>0.012090</td>\n",
       "    </tr>\n",
       "    <tr>\n",
       "      <th>일상</th>\n",
       "      <td>0.011659</td>\n",
       "    </tr>\n",
       "    <tr>\n",
       "      <th>에피소드</th>\n",
       "      <td>0.011282</td>\n",
       "    </tr>\n",
       "    <tr>\n",
       "      <th>드라마</th>\n",
       "      <td>0.011154</td>\n",
       "    </tr>\n",
       "    <tr>\n",
       "      <th>순정</th>\n",
       "      <td>0.009817</td>\n",
       "    </tr>\n",
       "    <tr>\n",
       "      <th>액션</th>\n",
       "      <td>0.008994</td>\n",
       "    </tr>\n",
       "    <tr>\n",
       "      <th>개그</th>\n",
       "      <td>0.008017</td>\n",
       "    </tr>\n",
       "    <tr>\n",
       "      <th>옴니버스</th>\n",
       "      <td>0.004794</td>\n",
       "    </tr>\n",
       "    <tr>\n",
       "      <th>시대극</th>\n",
       "      <td>0.004625</td>\n",
       "    </tr>\n",
       "    <tr>\n",
       "      <th>스포츠</th>\n",
       "      <td>0.003012</td>\n",
       "    </tr>\n",
       "  </tbody>\n",
       "</table>\n",
       "</div>"
      ],
      "text/plain": [
       "                  중요도\n",
       "댓글수 대비 긍정댓글  0.168475\n",
       "별점 참여인원수     0.109331\n",
       "조회수 대비 좋아요   0.108490\n",
       "댓글수          0.096630\n",
       "조회수 대비 별점참여  0.084899\n",
       "조회수          0.076600\n",
       "댓글수 대비 부정댓글  0.071292\n",
       "좋아요수         0.067834\n",
       "회차별 별점       0.057337\n",
       "회차           0.022475\n",
       "판타지          0.021019\n",
       "스릴러          0.016998\n",
       "스토리          0.013177\n",
       "감성           0.012090\n",
       "일상           0.011659\n",
       "에피소드         0.011282\n",
       "드라마          0.011154\n",
       "순정           0.009817\n",
       "액션           0.008994\n",
       "개그           0.008017\n",
       "옴니버스         0.004794\n",
       "시대극          0.004625\n",
       "스포츠          0.003012"
      ]
     },
     "execution_count": 239,
     "metadata": {},
     "output_type": "execute_result"
    }
   ],
   "source": [
    "# 컬럼별 중요도 파악하기\n",
    "importance = forest.feature_importances_\n",
    "importance_df = pd.DataFrame(importance,index = X_train.columns).sort_values(by = 0, ascending = False)\n",
    "importance_df=importance_df.rename(columns={0:'중요도'})\n",
    "importance_df"
   ]
  },
  {
   "cell_type": "markdown",
   "metadata": {},
   "source": [
    "### Standard Scaler"
   ]
  },
  {
   "cell_type": "code",
   "execution_count": 195,
   "metadata": {},
   "outputs": [],
   "source": [
    "scaler = StandardScaler()"
   ]
  },
  {
   "cell_type": "code",
   "execution_count": 196,
   "metadata": {},
   "outputs": [
    {
     "data": {
      "text/plain": [
       "StandardScaler()"
      ]
     },
     "execution_count": 196,
     "metadata": {},
     "output_type": "execute_result"
    }
   ],
   "source": [
    "# 범위 학습\n",
    "scaler.fit(X_train)"
   ]
  },
  {
   "cell_type": "code",
   "execution_count": 197,
   "metadata": {},
   "outputs": [],
   "source": [
    "# 학습된 범위로 값 변환\n",
    "trans_X_train = scaler.transform(X_train)\n",
    "trans_X_test = scaler.transform(X_test)"
   ]
  },
  {
   "cell_type": "code",
   "execution_count": 198,
   "metadata": {},
   "outputs": [
    {
     "name": "stdout",
     "output_type": "stream",
     "text": [
      "디시전트리 :  [0.7781155  0.76595745 0.74468085 0.72948328 0.7195122 ]\n",
      "평균 :  0.7475498554377641\n",
      "KNN :  [0.71732523 0.72340426 0.70212766 0.67781155 0.73780488]\n",
      "평균 :  0.7116947142115799\n",
      "랜덤포레스트 :  [0.87234043 0.8662614  0.87537994 0.83890578 0.86585366]\n",
      "평균 :  0.8637482393061013\n"
     ]
    }
   ],
   "source": [
    "# 각 모델별 스케일링 적용한 결과 보기\n",
    "result_tree = cross_val_score(tree,trans_X_train, y_train, cv=5)\n",
    "result_knn = cross_val_score(knn,trans_X_train, y_train, cv=5)\n",
    "result_forest = cross_val_score(forest,trans_X_train, y_train, cv=5)\n",
    "print(\"디시전트리 : \",result_tree)\n",
    "print(\"평균 : \",result_tree.mean())\n",
    "print(\"KNN : \",result_knn)\n",
    "print(\"평균 : \",result_knn.mean())\n",
    "print(\"랜덤포레스트 : \",result_forest)\n",
    "print(\"평균 : \",result_forest.mean())"
   ]
  },
  {
   "cell_type": "markdown",
   "metadata": {},
   "source": [
    "# Robust Scaler"
   ]
  },
  {
   "cell_type": "code",
   "execution_count": 199,
   "metadata": {},
   "outputs": [],
   "source": [
    "scaler = RobustScaler()"
   ]
  },
  {
   "cell_type": "code",
   "execution_count": 200,
   "metadata": {},
   "outputs": [
    {
     "data": {
      "text/plain": [
       "RobustScaler()"
      ]
     },
     "execution_count": 200,
     "metadata": {},
     "output_type": "execute_result"
    }
   ],
   "source": [
    "# 범위 학습\n",
    "scaler.fit(X_train)"
   ]
  },
  {
   "cell_type": "code",
   "execution_count": 201,
   "metadata": {},
   "outputs": [],
   "source": [
    "# 학습된 범위로 값 변환\n",
    "trans_X_train = scaler.transform(X_train)\n",
    "trans_X_test = scaler.transform(X_test)"
   ]
  },
  {
   "cell_type": "code",
   "execution_count": 202,
   "metadata": {},
   "outputs": [
    {
     "name": "stdout",
     "output_type": "stream",
     "text": [
      "디시전트리 :  [0.76595745 0.76595745 0.74772036 0.75987842 0.73780488]\n",
      "평균 :  0.7554637111720661\n",
      "KNN :  [0.68693009 0.67781155 0.65653495 0.64133739 0.66158537]\n",
      "평균 :  0.6648398695233153\n",
      "랜덤포레스트 :  [0.88145897 0.85714286 0.85410334 0.85410334 0.84756098]\n",
      "평균 :  0.8588738972496108\n"
     ]
    }
   ],
   "source": [
    "# 각 모델별 스케일링 적용한 결과 보기\n",
    "result_tree = cross_val_score(tree,trans_X_train, y_train, cv=5)\n",
    "result_knn = cross_val_score(knn,trans_X_train, y_train, cv=5)\n",
    "result_forest = cross_val_score(forest,trans_X_train, y_train, cv=5)\n",
    "print(\"디시전트리 : \",result_tree)\n",
    "print(\"평균 : \",result_tree.mean())\n",
    "print(\"KNN : \",result_knn)\n",
    "print(\"평균 : \",result_knn.mean())\n",
    "print(\"랜덤포레스트 : \",result_forest)\n",
    "print(\"평균 : \",result_forest.mean())"
   ]
  },
  {
   "cell_type": "markdown",
   "metadata": {},
   "source": [
    "# MinMax Scaler"
   ]
  },
  {
   "cell_type": "code",
   "execution_count": 203,
   "metadata": {},
   "outputs": [],
   "source": [
    "scaler = MinMaxScaler()"
   ]
  },
  {
   "cell_type": "code",
   "execution_count": 204,
   "metadata": {},
   "outputs": [
    {
     "data": {
      "text/plain": [
       "MinMaxScaler()"
      ]
     },
     "execution_count": 204,
     "metadata": {},
     "output_type": "execute_result"
    }
   ],
   "source": [
    "# 범위 학습\n",
    "scaler.fit(X_train)"
   ]
  },
  {
   "cell_type": "code",
   "execution_count": 205,
   "metadata": {},
   "outputs": [],
   "source": [
    "# 학습된 범위로 값 변환\n",
    "trans_X_train = scaler.transform(X_train)\n",
    "trans_X_test = scaler.transform(X_test)"
   ]
  },
  {
   "cell_type": "code",
   "execution_count": 206,
   "metadata": {},
   "outputs": [
    {
     "name": "stdout",
     "output_type": "stream",
     "text": [
      "디시전트리 :  [0.76899696 0.75379939 0.75987842 0.7325228  0.72560976]\n",
      "평균 :  0.7481614648973236\n",
      "KNN :  [0.64133739 0.67173252 0.66869301 0.64133739 0.68597561]\n",
      "평균 :  0.6618151827414931\n",
      "랜덤포레스트 :  [0.88145897 0.8662614  0.87537994 0.84194529 0.84756098]\n",
      "평균 :  0.8625213136629846\n"
     ]
    }
   ],
   "source": [
    "# 각 모델별 스케일링 적용한 결과 보기\n",
    "result_tree = cross_val_score(tree,trans_X_train, y_train, cv=5)\n",
    "result_knn = cross_val_score(knn,trans_X_train, y_train, cv=5)\n",
    "result_forest = cross_val_score(forest,trans_X_train, y_train, cv=5)\n",
    "print(\"디시전트리 : \",result_tree)\n",
    "print(\"평균 : \",result_tree.mean())\n",
    "print(\"KNN : \",result_knn)\n",
    "print(\"평균 : \",result_knn.mean())\n",
    "print(\"랜덤포레스트 : \",result_forest)\n",
    "print(\"평균 : \",result_forest.mean())"
   ]
  },
  {
   "cell_type": "markdown",
   "metadata": {},
   "source": [
    "# Normalizer"
   ]
  },
  {
   "cell_type": "code",
   "execution_count": 207,
   "metadata": {},
   "outputs": [],
   "source": [
    "scaler = MinMaxScaler()"
   ]
  },
  {
   "cell_type": "code",
   "execution_count": 208,
   "metadata": {},
   "outputs": [
    {
     "data": {
      "text/plain": [
       "MinMaxScaler()"
      ]
     },
     "execution_count": 208,
     "metadata": {},
     "output_type": "execute_result"
    }
   ],
   "source": [
    "# 범위 학습\n",
    "scaler.fit(X_train)"
   ]
  },
  {
   "cell_type": "code",
   "execution_count": 209,
   "metadata": {},
   "outputs": [],
   "source": [
    "# 학습된 범위로 값 변환\n",
    "trans_X_train = scaler.transform(X_train)\n",
    "trans_X_test = scaler.transform(X_test)"
   ]
  },
  {
   "cell_type": "code",
   "execution_count": 210,
   "metadata": {},
   "outputs": [
    {
     "name": "stdout",
     "output_type": "stream",
     "text": [
      "디시전트리 :  [0.74772036 0.75379939 0.74164134 0.74772036 0.73780488]\n",
      "평균 :  0.7457372674030692\n",
      "KNN :  [0.64133739 0.67173252 0.66869301 0.64133739 0.68597561]\n",
      "평균 :  0.6618151827414931\n",
      "랜덤포레스트 :  [0.87841945 0.86322188 0.87234043 0.84802432 0.85670732]\n",
      "평균 :  0.8637426792201053\n"
     ]
    }
   ],
   "source": [
    "# 각 모델별 스케일링 적용한 결과 보기\n",
    "result_tree = cross_val_score(tree,trans_X_train, y_train, cv=5)\n",
    "result_knn = cross_val_score(knn,trans_X_train, y_train, cv=5)\n",
    "result_forest = cross_val_score(forest,trans_X_train, y_train, cv=5)\n",
    "print(\"디시전트리 : \",result_tree)\n",
    "print(\"평균 : \",result_tree.mean())\n",
    "print(\"KNN : \",result_knn)\n",
    "print(\"평균 : \",result_knn.mean())\n",
    "print(\"랜덤포레스트 : \",result_forest)\n",
    "print(\"평균 : \",result_forest.mean())"
   ]
  },
  {
   "cell_type": "markdown",
   "metadata": {},
   "source": [
    "# Voting"
   ]
  },
  {
   "cell_type": "code",
   "execution_count": 211,
   "metadata": {},
   "outputs": [],
   "source": [
    "voting = VotingClassifier(\n",
    "    estimators = [\n",
    "        ('knn_model',knn),\n",
    "        ('tree_model',tree),\n",
    "        ('forest_model',forest)\n",
    "    ],\n",
    "    voting = 'soft')"
   ]
  },
  {
   "cell_type": "code",
   "execution_count": 212,
   "metadata": {},
   "outputs": [
    {
     "data": {
      "text/plain": [
       "VotingClassifier(estimators=[('knn_model',\n",
       "                              KNeighborsClassifier(n_neighbors=299)),\n",
       "                             ('tree_model', DecisionTreeClassifier()),\n",
       "                             ('forest_model',\n",
       "                              RandomForestClassifier(max_depth=17))],\n",
       "                 voting='soft')"
      ]
     },
     "execution_count": 212,
     "metadata": {},
     "output_type": "execute_result"
    }
   ],
   "source": [
    "# 학습\n",
    "voting.fit(X_train,y_train)"
   ]
  },
  {
   "cell_type": "code",
   "execution_count": 213,
   "metadata": {},
   "outputs": [
    {
     "data": {
      "text/plain": [
       "array([0.77203647, 0.77507599, 0.76291793, 0.76595745, 0.72865854])"
      ]
     },
     "execution_count": 213,
     "metadata": {},
     "output_type": "execute_result"
    }
   ],
   "source": [
    "# 교차검증\n",
    "result = cross_val_score(voting, X_train, y_train, cv=5)\n",
    "result"
   ]
  },
  {
   "cell_type": "code",
   "execution_count": 214,
   "metadata": {},
   "outputs": [
    {
     "data": {
      "text/plain": [
       "0.7673758865248227"
      ]
     },
     "execution_count": 214,
     "metadata": {},
     "output_type": "execute_result"
    }
   ],
   "source": [
    "# 평가\n",
    "voting.score(X_test,y_test)"
   ]
  },
  {
   "cell_type": "markdown",
   "metadata": {},
   "source": [
    "# Ada Boosting"
   ]
  },
  {
   "cell_type": "code",
   "execution_count": 215,
   "metadata": {},
   "outputs": [],
   "source": [
    "adaboost = AdaBoostClassifier()"
   ]
  },
  {
   "cell_type": "code",
   "execution_count": 216,
   "metadata": {},
   "outputs": [
    {
     "data": {
      "text/plain": [
       "AdaBoostClassifier()"
      ]
     },
     "execution_count": 216,
     "metadata": {},
     "output_type": "execute_result"
    }
   ],
   "source": [
    "# 학습\n",
    "adaboost.fit(X_train,y_train)"
   ]
  },
  {
   "cell_type": "code",
   "execution_count": 217,
   "metadata": {},
   "outputs": [
    {
     "data": {
      "text/plain": [
       "array([0.83282675, 0.7781155 , 0.78723404, 0.76291793, 0.75304878])"
      ]
     },
     "execution_count": 217,
     "metadata": {},
     "output_type": "execute_result"
    }
   ],
   "source": [
    "# 교차검증\n",
    "result = cross_val_score(adaboost, X_train, y_train, cv=5)\n",
    "result"
   ]
  },
  {
   "cell_type": "code",
   "execution_count": 218,
   "metadata": {},
   "outputs": [
    {
     "data": {
      "text/plain": [
       "0.8014184397163121"
      ]
     },
     "execution_count": 218,
     "metadata": {},
     "output_type": "execute_result"
    }
   ],
   "source": [
    "# 평가\n",
    "adaboost.score(X_test,y_test)"
   ]
  },
  {
   "cell_type": "markdown",
   "metadata": {},
   "source": [
    "# Gradiant Boosting"
   ]
  },
  {
   "cell_type": "code",
   "execution_count": 219,
   "metadata": {},
   "outputs": [],
   "source": [
    "gbc = GradientBoostingClassifier(max_depth=6)"
   ]
  },
  {
   "cell_type": "code",
   "execution_count": 220,
   "metadata": {},
   "outputs": [
    {
     "data": {
      "text/plain": [
       "GradientBoostingClassifier(max_depth=6)"
      ]
     },
     "execution_count": 220,
     "metadata": {},
     "output_type": "execute_result"
    }
   ],
   "source": [
    "# 학습\n",
    "gbc.fit(X_train,y_train)"
   ]
  },
  {
   "cell_type": "code",
   "execution_count": 221,
   "metadata": {},
   "outputs": [
    {
     "data": {
      "text/plain": [
       "0.8540032619171175"
      ]
     },
     "execution_count": 221,
     "metadata": {},
     "output_type": "execute_result"
    }
   ],
   "source": [
    "# 교차검증\n",
    "result = cross_val_score(gbc, X_train, y_train, cv=5)\n",
    "result.mean()"
   ]
  },
  {
   "cell_type": "code",
   "execution_count": 222,
   "metadata": {},
   "outputs": [
    {
     "data": {
      "text/plain": [
       "0.7943262411347518"
      ]
     },
     "execution_count": 222,
     "metadata": {},
     "output_type": "execute_result"
    }
   ],
   "source": [
    "result = cross_val_score(gbc, X_test, y_test, cv=5)\n",
    "result.mean()"
   ]
  },
  {
   "cell_type": "markdown",
   "metadata": {},
   "source": [
    "# 그리드서치"
   ]
  },
  {
   "cell_type": "code",
   "execution_count": 223,
   "metadata": {},
   "outputs": [],
   "source": [
    "# param_grid={\n",
    "#     'max_depth' : [5],\n",
    "#     'n_estimators' :[1500,2000,2500],\n",
    "#     'max_features' : [0.9,1.0],\n",
    "#     'max_leaf_nodes' : [200,250,300],\n",
    "#     'min_samples_leaf' : [3,6,10]\n",
    "# }\n",
    "\n",
    "# forest.fit(trans_X_train,y_train)"
   ]
  },
  {
   "cell_type": "code",
   "execution_count": 224,
   "metadata": {},
   "outputs": [],
   "source": [
    "# grid = GridSearchCV(forest, # GridSearch에 사용할 모델\n",
    "#                    param_grid, # 튜닝할 매개변수\n",
    "#                     cv=3 # k겹 교차검증\n",
    "#                    )"
   ]
  },
  {
   "cell_type": "code",
   "execution_count": 225,
   "metadata": {},
   "outputs": [],
   "source": [
    "# grid.fit(X_train,y_train)"
   ]
  },
  {
   "cell_type": "code",
   "execution_count": 226,
   "metadata": {},
   "outputs": [],
   "source": [
    "# #최적의 파라미터\n",
    "# print('최적의 파라미터 : ',grid.best_params_)\n",
    "# # 최적의 예측점수\n",
    "# print('최고 예측 점수 : ',grid.best_score_)"
   ]
  },
  {
   "cell_type": "markdown",
   "metadata": {},
   "source": [
    "# 랜덤서치"
   ]
  },
  {
   "cell_type": "code",
   "execution_count": 227,
   "metadata": {},
   "outputs": [],
   "source": [
    "ran = RandomizedSearchCV\n",
    "from scipy.stats import randint"
   ]
  },
  {
   "cell_type": "code",
   "execution_count": 228,
   "metadata": {},
   "outputs": [],
   "source": [
    "random_grid={\n",
    "    'max_depth' : randint(low=1, high=200),\n",
    "    'max_leaf_nodes' : randint(low=1, high=500),\n",
    "    'min_samples_leaf' : randint(low=1, high=20),\n",
    "    'min_samples_split' : randint(low=1, high=10),\n",
    "    'n_estimators': randint(low=1, high=3000),\n",
    "    'max_features': randint(low=0.01, high=1.0),\n",
    "}"
   ]
  },
  {
   "cell_type": "code",
   "execution_count": 229,
   "metadata": {},
   "outputs": [],
   "source": [
    "ran = RandomizedSearchCV(forest,\n",
    "                         param_distributions=random_grid,\n",
    "                         n_iter=1000,\n",
    "                         cv=2,\n",
    "                         scoring='accuracy',\n",
    "                         random_state=42)"
   ]
  },
  {
   "cell_type": "code",
   "execution_count": 230,
   "metadata": {},
   "outputs": [],
   "source": [
    "# ran.fit(X_train,y_train)"
   ]
  },
  {
   "cell_type": "code",
   "execution_count": 231,
   "metadata": {},
   "outputs": [],
   "source": [
    "# #최적의 파라미터\n",
    "# print('최적의 파라미터 : ',ran.best_params_)\n",
    "# # 최적의 예측점수\n",
    "# print('최고 예측 점수 : ',ran.best_score_)"
   ]
  },
  {
   "cell_type": "markdown",
   "metadata": {},
   "source": [
    "# 성능평가지표"
   ]
  },
  {
   "cell_type": "code",
   "execution_count": 233,
   "metadata": {},
   "outputs": [
    {
     "name": "stdout",
     "output_type": "stream",
     "text": [
      "정확도 :  0.873758865248227\n",
      "재현율 :  0.7732342007434945\n",
      "정밀도 :  0.8813559322033898\n",
      "f1점수 :  0.8237623762376237\n"
     ]
    }
   ],
   "source": [
    "print(\"정확도 : \",accuracy_score(y_test, forest.predict(X_test)))\n",
    "print(\"재현율 : \",recall_score(y_test, forest.predict(X_test)))\n",
    "print(\"정밀도 : \",precision_score(y_test, forest.predict(X_test)))\n",
    "print(\"f1점수 : \",f1_score(y_test, forest.predict(X_test)))"
   ]
  },
  {
   "cell_type": "code",
   "execution_count": 3,
   "metadata": {},
   "outputs": [],
   "source": [
    "xgb = XGBClassifier()"
   ]
  },
  {
   "cell_type": "code",
   "execution_count": 15,
   "metadata": {},
   "outputs": [
    {
     "name": "stderr",
     "output_type": "stream",
     "text": [
      "C:\\Users\\SM2116\\anaconda3\\lib\\site-packages\\xgboost\\sklearn.py:1146: UserWarning: The use of label encoder in XGBClassifier is deprecated and will be removed in a future release. To remove this warning, do the following: 1) Pass option use_label_encoder=False when constructing XGBClassifier object; and 2) Encode your labels (y) as integers starting with 0, i.e. 0, 1, 2, ..., [num_class - 1].\n",
      "  warnings.warn(label_encoder_deprecation_msg, UserWarning)\n"
     ]
    },
    {
     "name": "stdout",
     "output_type": "stream",
     "text": [
      "[12:02:08] WARNING: C:/Users/Administrator/workspace/xgboost-win64_release_1.4.0/src/learner.cc:1095: Starting in XGBoost 1.3.0, the default evaluation metric used with the objective 'binary:logistic' was changed from 'error' to 'logloss'. Explicitly set eval_metric if you'd like to restore the old behavior.\n"
     ]
    },
    {
     "data": {
      "text/plain": [
       "XGBClassifier(base_score=0.5, booster='gbtree', colsample_bylevel=1,\n",
       "              colsample_bynode=1, colsample_bytree=1, gamma=0, gpu_id=-1,\n",
       "              importance_type='gain', interaction_constraints='',\n",
       "              learning_rate=0.300000012, max_delta_step=0, max_depth=6,\n",
       "              min_child_weight=1, missing=nan, monotone_constraints='()',\n",
       "              n_estimators=100, n_jobs=16, num_parallel_tree=1, random_state=0,\n",
       "              reg_alpha=0, reg_lambda=1, scale_pos_weight=1, subsample=1,\n",
       "              tree_method='exact', validate_parameters=1, verbosity=None)"
      ]
     },
     "execution_count": 15,
     "metadata": {},
     "output_type": "execute_result"
    }
   ],
   "source": [
    "xgb.fit(X_train,y_train)"
   ]
  },
  {
   "cell_type": "code",
   "execution_count": 18,
   "metadata": {},
   "outputs": [
    {
     "data": {
      "text/plain": [
       "0.8539007092198582"
      ]
     },
     "execution_count": 18,
     "metadata": {},
     "output_type": "execute_result"
    }
   ],
   "source": [
    "xgb.score(X_test,y_test)"
   ]
  },
  {
   "cell_type": "code",
   "execution_count": null,
   "metadata": {},
   "outputs": [],
   "source": []
  },
  {
   "cell_type": "code",
   "execution_count": null,
   "metadata": {},
   "outputs": [],
   "source": []
  },
  {
   "cell_type": "code",
   "execution_count": null,
   "metadata": {},
   "outputs": [],
   "source": []
  },
  {
   "cell_type": "code",
   "execution_count": null,
   "metadata": {},
   "outputs": [],
   "source": []
  },
  {
   "cell_type": "code",
   "execution_count": null,
   "metadata": {},
   "outputs": [],
   "source": []
  }
 ],
 "metadata": {
  "kernelspec": {
   "display_name": "Python 3",
   "language": "python",
   "name": "python3"
  },
  "language_info": {
   "codemirror_mode": {
    "name": "ipython",
    "version": 3
   },
   "file_extension": ".py",
   "mimetype": "text/x-python",
   "name": "python",
   "nbconvert_exporter": "python",
   "pygments_lexer": "ipython3",
   "version": "3.8.5"
  }
 },
 "nbformat": 4,
 "nbformat_minor": 4
}
