{
 "cells": [
  {
   "cell_type": "code",
   "execution_count": 1,
   "metadata": {},
   "outputs": [],
   "source": [
    "import numpy as np\n",
    "import pandas as pd\n",
    "from sklearn.model_selection import train_test_split    # X스플릿\n",
    "from sklearn.ensemble import RandomForestClassifier     # 랜덤포레스트\n",
    "from konlpy.tag import Okt\n",
    "from sklearn.feature_extraction.text import CountVectorizer\n",
    "from sklearn.pipeline import make_pipeline\n",
    "from sklearn.svm import LinearSVC\n",
    "from selenium import webdriver as wb\n",
    "import time\n",
    "from selenium.webdriver.common.keys import Keys\n",
    "from bs4 import BeautifulSoup as bs\n",
    "from flask import Flask\n",
    "from flask import request, redirect"
   ]
  },
  {
   "cell_type": "markdown",
   "metadata": {},
   "source": [
    "# 웹툰데이터 학습"
   ]
  },
  {
   "cell_type": "code",
   "execution_count": 2,
   "metadata": {},
   "outputs": [
    {
     "data": {
      "text/plain": [
       "RandomForestClassifier()"
      ]
     },
     "execution_count": 2,
     "metadata": {},
     "output_type": "execute_result"
    }
   ],
   "source": [
    "webtoon = pd.read_csv('최종학습데이터.csv', encoding='cp949')\n",
    "\n",
    "# 제목화 회차 제목을 인덱스로 지정\n",
    "webtoon.index = [webtoon.iloc[:,0],webtoon.iloc[:,1]]\n",
    "\n",
    "# 사용하지 않는 열 삭제\n",
    "webtoon = webtoon.drop('웹툰 제목', axis = 1)\n",
    "webtoon = webtoon.drop('회차 제목', axis = 1)\n",
    "\n",
    "# 문제와 정답으로 나누기\n",
    "webtoon_X = webtoon.drop('정식연재', axis = 1)\n",
    "webtoon_y = webtoon['정식연재']\n",
    "\n",
    "# train, test 나누기\n",
    "X_train,X_test,y_train,y_test = train_test_split(webtoon_X,webtoon_y,\n",
    "                                random_state = 3,\n",
    "                                test_size = 0.3)\n",
    "\n",
    "# 랜덤포레스트 모델 사용\n",
    "forest = RandomForestClassifier()\n",
    "\n",
    "# 학습\n",
    "forest.fit(X_train,y_train)"
   ]
  },
  {
   "cell_type": "markdown",
   "metadata": {},
   "source": [
    "# 댓글 학습"
   ]
  },
  {
   "cell_type": "code",
   "execution_count": 3,
   "metadata": {},
   "outputs": [
    {
     "name": "stderr",
     "output_type": "stream",
     "text": [
      "C:\\Users\\SM2116\\anaconda3\\lib\\site-packages\\IPython\\core\\interactiveshell.py:3146: DtypeWarning: Columns (5) have mixed types.Specify dtype option on import or set low_memory=False.\n",
      "  has_raised = await self.run_ast_nodes(code_ast.body, cell_name,\n",
      "C:\\Users\\SM2116\\anaconda3\\lib\\site-packages\\sklearn\\svm\\_base.py:976: ConvergenceWarning: Liblinear failed to converge, increase the number of iterations.\n",
      "  warnings.warn(\"Liblinear failed to converge, increase \"\n"
     ]
    },
    {
     "data": {
      "text/plain": [
       "Pipeline(steps=[('countvectorizer', CountVectorizer()),\n",
       "                ('linearsvc', LinearSVC())])"
      ]
     },
     "execution_count": 3,
     "metadata": {},
     "output_type": "execute_result"
    }
   ],
   "source": [
    "# 학습데이터 불러오기\n",
    "comment38 = pd.read_csv('댓글예측완료2.csv', encoding='cp949')\n",
    "\n",
    "X = comment38['댓글'] # 문제\n",
    "y = comment38['예측라벨'] # 정답\n",
    "# train, test 분류\n",
    "X_train, X_test, y_train, y_test = train_test_split(X, y,test_size=0.3, \n",
    "                                                    shuffle=False,random_state=34)\n",
    "\n",
    "# pipeline : 토큰화, 모델학습\n",
    "pipe = make_pipeline(CountVectorizer(), LinearSVC())\n",
    "pipe.fit(X_train, y_train)"
   ]
  },
  {
   "cell_type": "markdown",
   "metadata": {},
   "source": [
    "# 입력한 웹툰URL을 크롤링해주는 함수 정의"
   ]
  },
  {
   "cell_type": "code",
   "execution_count": 8,
   "metadata": {},
   "outputs": [],
   "source": [
    "def crawling(url_input):\n",
    "    driver = wb.Chrome()\n",
    "    titleList = [] # 제목\n",
    "    titleList2 = [] # 댓글 하나당 제목 하나씩 가져오기 위한 리스트\n",
    "    date_list = [] # 회차별 날짜\n",
    "    count_list = [] # 회차별 조회수\n",
    "    star_list = [] # 회차별 별점\n",
    "    comment_list = [] # 댓글\n",
    "    comment_date_list = []\n",
    "    comment_like_list = []\n",
    "    comment_hate_list = []\n",
    "    viewList = [] # 회차제목\n",
    "    viewList2 = [] # 댓글 하나당 회차제목 하나씩 가져오기 위한 리스트\n",
    "    roundList = [] # 회차\n",
    "    roundList2 = [] # 댓글 하나당 회차 하나씩 가져오기 위한 리스트\n",
    "    star_cnt_list = [] # 별점 참여인원수\n",
    "    like_list = [] # 회차별 좋아요\n",
    "    genre_list = [] # 장르\n",
    "    list1 = [5, 7] # div태그 자식 선택자 순서\n",
    "    list2 = [1, 3, 5] # td태그 자식선택자 순서\n",
    "    num = 0\n",
    "    haha=0\n",
    "\n",
    "    url=url_input\n",
    "    driver.get(url)\n",
    "    time.sleep(1)\n",
    "    cnt_first = driver.find_element_by_class_name(\"first\")\n",
    "    cnt_first.click()\n",
    "    time.sleep(1)\n",
    "\n",
    "    for page in range(0, 5):  # 다음화 넘어가기 반복문\n",
    "        soup = bs(driver.page_source,'lxml')\n",
    "        # 웹툰 제목\n",
    "        title = soup.select(\"div.detail\")[0].text\n",
    "        titleList.append(title.split(\"\\t\")[0].split(\"\\n\")[1].strip())\n",
    "        # 장르\n",
    "        genre = soup.select(\"#content > div.snb > ul > li.on > a\")[0].text\n",
    "        genre_list.append(genre.strip())\n",
    "        # 회차\n",
    "        num += 1\n",
    "        roundList.append(str(num))\n",
    "        # 회차제목\n",
    "        view = soup.select(\"div.tit_area > div.view\")[0].text\n",
    "        viewList.append(view.split(\"\\n\")[1].strip())\n",
    "        # 등록일\n",
    "        date = soup.select(\"dd.date\")[0].text\n",
    "        date_list.append(date)\n",
    "        # 조회수\n",
    "        count = int(soup.select(\"dd.date\")[1].text)  # 조회수\n",
    "        count_list.append(count)\n",
    "        # 별점참여인원\n",
    "        star_cnt = int(soup.select(\"#topTotalStarPoint > span.pointTotalPerson > em\")[0].text)\n",
    "        star_cnt_list.append(star_cnt)\n",
    "        # 좋아요\n",
    "        like =soup.select(\"div.u_likeit_module > a > em\")[0].text.strip()\n",
    "        if(len(like)>=4):\n",
    "            like = like.split(',')\n",
    "            like = int(like[0]+like[1])\n",
    "        else :\n",
    "            like = int(like)\n",
    "        like_list.append(like)\n",
    "        # 별점\n",
    "        star = float(soup.select(\"#topPointTotalNumber > strong\")[0].text)\n",
    "        star_list.append(star)\n",
    "        driver.switch_to.window(driver.window_handles[-1]) # 댓글 iprame 시작\n",
    "        driver.switch_to.frame(\"commentIframe\")\n",
    "        soups = bs(driver.page_source,\"html.parser\") # 댓글 iprame 여기까지\n",
    "        time.sleep(1)\n",
    "        # 전체 댓글 클릭\n",
    "        all_click = driver.find_element_by_tag_name(\"#cbox_module_wai_u_cbox_sort_option_tab2 > span.u_cbox_sort_label\")\n",
    "        all_click.click()\n",
    "        driver.switch_to.window(driver.window_handles[-1]) \n",
    "        driver.switch_to.frame(\"commentIframe\")\n",
    "        soups = bs(driver.page_source,\"html.parser\")\n",
    "        for d in range(4,500): # 댓글 넘기기 반복\n",
    "            for c in range(0,15): # 한페이지 안의 댓글\n",
    "                try:\n",
    "                    driver.switch_to.window(driver.window_handles[-1]) \n",
    "                    driver.switch_to.frame(\"commentIframe\")\n",
    "                    soups = bs(driver.page_source,\"html.parser\")\n",
    "                    comment = soups.select(\"span.u_cbox_contents\")[c].text\n",
    "                    comment_list.append(comment)\n",
    "                    comment_date = soups.select(\"span.u_cbox_date\")[c].text\n",
    "                    comment_date_list.append(comment_date)\n",
    "                    comment_like =soups.select(\"em.u_cbox_cnt_recomm\")[c].text\n",
    "                    comment_like_list.append(comment_like)\n",
    "                    comment_hate = soups.select(\"em.u_cbox_cnt_unrecomm\")[c].text\n",
    "                    comment_hate_list.append(comment_hate)\n",
    "                    titleList2.append(title.split(\"\\t\")[0].split(\"\\n\")[1])\n",
    "                    viewList2.append(view.split(\"\\n\")[1])\n",
    "                    roundList2.append(str(num))\n",
    "                except:\n",
    "                    haha+=1\n",
    "            try:\n",
    "                driver.switch_to.window(driver.window_handles[-1]) \n",
    "                driver.switch_to.frame(\"commentIframe\")\n",
    "                soups = bs(driver.page_source,\"html.parser\")\n",
    "                two_click = driver.find_element_by_tag_name(\"#cbox_module > div > div.u_cbox_paginate > div > strong + a\")\n",
    "                two_click.click()\n",
    "    #                             time.sleep(0.5)\n",
    "            except:\n",
    "                haha+=1\n",
    "    #                             if two_click == None: # 만약 더이상 댓글페이지가 없으면\n",
    "                break # 댓글페이지 넘기기 멈춰\n",
    "        try:\n",
    "            driver.switch_to.window(driver.window_handles[-1]) # 페이지 넘어갈때\n",
    "            next_click = driver.find_element_by_tag_name(\"div.btn_area > span.next > a\")\n",
    "            next_click.click()\n",
    "        except:\n",
    "            haha+=1\n",
    "\n",
    "    driver.quit()\n",
    "\n",
    "    dic = {\"웹툰 제목\": titleList,\"회차 제목\":viewList,\"회차\": roundList, \"장르\":genre_list, \"등록일\" : date_list, \"조회수\": count_list, \"회차별 별점\": star_list, \"별점 참여인원수\":star_cnt_list, \"좋아요수\":like_list}\n",
    "    dic = pd.DataFrame(dic)\n",
    "    commentDic = {\"웹툰제목\":titleList2,\"회차 제목\":viewList2, \"회차\": roundList2,\"댓글\": comment_list, \"댓글 등록일\" : comment_date_list, \"댓글 좋아요\": comment_like_list, \"댓글 싫어요\": comment_hate_list}\n",
    "    commentDic = pd.DataFrame(commentDic)\n",
    "    \n",
    "    return dic,commentDic"
   ]
  },
  {
   "cell_type": "markdown",
   "metadata": {},
   "source": [
    "# 크롤링한 웹툰을 전처리해주는 함수 정의"
   ]
  },
  {
   "cell_type": "code",
   "execution_count": 5,
   "metadata": {},
   "outputs": [],
   "source": [
    "def preprocess(dic,commentDic):\n",
    "    dic['조회수 대비 별점참여'] = dic['별점 참여인원수']/dic['조회수']*1000\n",
    "    dic['조회수 대비 좋아요'] = dic['좋아요수']/dic['조회수']*1000\n",
    "\n",
    "    dic['에피소드']=0\n",
    "    dic['옴니버스']=0\n",
    "    dic['스토리']=0\n",
    "    dic['일상']=0\n",
    "    dic['개그']=0\n",
    "    dic['판타지']=0\n",
    "    dic['액션']=0\n",
    "    dic['드라마']=0\n",
    "    dic['순정']=0\n",
    "    dic['감성']=0\n",
    "    dic['스릴러']=0\n",
    "    dic['시대극']=0\n",
    "    dic['스포츠']=0\n",
    "\n",
    "    dic[dic.loc[1,'장르']]=1\n",
    "\n",
    "    commentDic['회차'] = commentDic['회차'].astype('int')\n",
    "    dic['회차'] = dic['회차'].astype('int')\n",
    "    dic['댓글수']=0\n",
    "\n",
    "    for i in range(0,len(dic)):\n",
    "        dic.loc[i,'댓글수'] = len(commentDic[commentDic['회차']==i+1])\n",
    "\n",
    "    X_comment = commentDic['댓글']\n",
    "    commentDic['긍정부정'] = pipe.predict(X_comment)\n",
    "\n",
    "    dic['댓글수 대비 긍정댓글'] = 0.0\n",
    "    dic['댓글수 대비 부정댓글'] = 0.0\n",
    "\n",
    "    for i in range(1, len(dic)+1): # 회차반복\n",
    "        for j in range(0,2): # 예측라벨 반복\n",
    "            bo1 = commentDic['긍정부정'] == j\n",
    "            bo2 = commentDic['회차'] == i\n",
    "            bo3 = dic.loc[i-1,'댓글수']!= 0\n",
    "            if (j == 0) and (len(commentDic[bo1&bo2])!=0) and (bo3):\n",
    "                dic.loc[i-1,'댓글수 대비 부정댓글']= (len(commentDic[bo1&bo2]))/(dic.loc[i-1,['댓글수']].values)*100\n",
    "            elif (j == 1) and (len(commentDic[bo1&bo2])!=0) and (bo3):\n",
    "                dic.loc[i-1,'댓글수 대비 긍정댓글']= (len(commentDic[bo1&bo2]))/(dic.loc[i-1,['댓글수']].values)*100\n",
    "\n",
    "    # 제목화 회차 제목을 인덱스로 지정\n",
    "    dic.index = [dic.iloc[:,0],dic.iloc[:,1]]\n",
    "\n",
    "    # 사용하지 않는 열 삭제\n",
    "    dic = dic.drop('웹툰 제목', axis = 1)\n",
    "    dic = dic.drop('회차 제목', axis = 1)\n",
    "    dic = dic.drop('등록일', axis = 1)\n",
    "    dic = dic.drop('장르', axis = 1)\n",
    "\n",
    "    # 컬럼 순서 정렬\n",
    "    dic = dic[['회차','조회수','회차별 별점','별점 참여인원수','좋아요수','댓글수','조회수 대비 별점참여','조회수 대비 좋아요','댓글수 대비 긍정댓글','댓글수 대비 부정댓글','에피소드','옴니버스','스토리','일상','개그','판타지','액션','드라마','순정','감성','스릴러','시대극','스포츠'\n",
    "    ]]\n",
    "    \n",
    "    return dic"
   ]
  },
  {
   "cell_type": "markdown",
   "metadata": {},
   "source": [
    "# 정식연재를 예측해주는 함수 정의"
   ]
  },
  {
   "cell_type": "code",
   "execution_count": 6,
   "metadata": {},
   "outputs": [],
   "source": [
    "def pre(dic):\n",
    "    result = forest.predict(dic)\n",
    "    return result"
   ]
  },
  {
   "cell_type": "markdown",
   "metadata": {},
   "source": [
    "# 플라스크 서버"
   ]
  },
  {
   "cell_type": "code",
   "execution_count": 10,
   "metadata": {},
   "outputs": [
    {
     "name": "stdout",
     "output_type": "stream",
     "text": [
      " * Serving Flask app \"__main__\" (lazy loading)\n",
      " * Environment: production\n",
      "   WARNING: This is a development server. Do not use it in a production deployment.\n",
      "   Use a production WSGI server instead.\n",
      " * Debug mode: off\n"
     ]
    },
    {
     "name": "stderr",
     "output_type": "stream",
     "text": [
      " * Running on http://127.0.0.1:5000/ (Press CTRL+C to quit)\n",
      "127.0.0.1 - - [10/Jul/2021 09:15:20] \"\u001b[32mGET /learn?url=https%3A%2F%2Fcomic.naver.com%2FbestChallenge%2Flist%3FtitleId%3D761467 HTTP/1.1\u001b[0m\" 302 -\n"
     ]
    }
   ],
   "source": [
    "from flask import Flask\n",
    "from flask import request, redirect\n",
    "\n",
    "app = Flask(__name__) \n",
    "@app.route('/learn', methods=['GET','POST'])\n",
    "def index():     \n",
    "    \n",
    "    # Webtoon_input.jsp에서 url주소를 받아오기\n",
    "    if request.method == 'GET':\n",
    "        url = request.args['url']\n",
    "        \n",
    "    else:\n",
    "        url = request.form['url']\n",
    "    \n",
    "    # 크롤링\n",
    "    crawl = crawling(url)\n",
    "    dic = crawl[0]\n",
    "    commentDic = crawl[1]\n",
    "    \n",
    "    # 전처리\n",
    "    dic = preprocess(dic,commentDic)\n",
    "    \n",
    "    # 예측\n",
    "    result = pre(dic)\n",
    "    \n",
    "    # 각 회차별 결과값을 변수에 넣기\n",
    "    vol1 = result[0]\n",
    "    vol2 = result[1]\n",
    "    vol3 = result[2]\n",
    "    vol4 = result[3]\n",
    "    vol5 = result[4]\n",
    "        \n",
    "    url = 'http://localhost:8090/WebToon/Webtoon_input_result.jsp?vol1='+str(vol1)+'&vol2='+str(vol2)+'&vol3='+str(vol3)+'&vol4='+str(vol4)+'&vol5='+str(vol5)\n",
    "    return redirect(url)\n",
    "\n",
    "if __name__ == '__main__':\n",
    "    app.run(host='127.0.0.1', port='5000')"
   ]
  },
  {
   "cell_type": "code",
   "execution_count": null,
   "metadata": {},
   "outputs": [],
   "source": []
  },
  {
   "cell_type": "code",
   "execution_count": null,
   "metadata": {},
   "outputs": [],
   "source": []
  },
  {
   "cell_type": "code",
   "execution_count": null,
   "metadata": {},
   "outputs": [],
   "source": []
  },
  {
   "cell_type": "code",
   "execution_count": null,
   "metadata": {},
   "outputs": [],
   "source": []
  },
  {
   "cell_type": "code",
   "execution_count": null,
   "metadata": {},
   "outputs": [],
   "source": []
  },
  {
   "cell_type": "code",
   "execution_count": null,
   "metadata": {},
   "outputs": [],
   "source": []
  },
  {
   "cell_type": "code",
   "execution_count": null,
   "metadata": {},
   "outputs": [],
   "source": []
  },
  {
   "cell_type": "code",
   "execution_count": null,
   "metadata": {},
   "outputs": [],
   "source": []
  },
  {
   "cell_type": "code",
   "execution_count": null,
   "metadata": {},
   "outputs": [],
   "source": []
  },
  {
   "cell_type": "code",
   "execution_count": null,
   "metadata": {},
   "outputs": [],
   "source": []
  },
  {
   "cell_type": "code",
   "execution_count": null,
   "metadata": {},
   "outputs": [],
   "source": []
  },
  {
   "cell_type": "code",
   "execution_count": null,
   "metadata": {},
   "outputs": [],
   "source": []
  },
  {
   "cell_type": "code",
   "execution_count": null,
   "metadata": {},
   "outputs": [],
   "source": []
  },
  {
   "cell_type": "code",
   "execution_count": null,
   "metadata": {},
   "outputs": [],
   "source": []
  },
  {
   "cell_type": "code",
   "execution_count": null,
   "metadata": {},
   "outputs": [],
   "source": []
  },
  {
   "cell_type": "code",
   "execution_count": null,
   "metadata": {},
   "outputs": [],
   "source": []
  },
  {
   "cell_type": "code",
   "execution_count": null,
   "metadata": {},
   "outputs": [],
   "source": []
  },
  {
   "cell_type": "code",
   "execution_count": null,
   "metadata": {},
   "outputs": [],
   "source": []
  },
  {
   "cell_type": "code",
   "execution_count": null,
   "metadata": {},
   "outputs": [],
   "source": []
  },
  {
   "cell_type": "code",
   "execution_count": null,
   "metadata": {},
   "outputs": [],
   "source": []
  },
  {
   "cell_type": "code",
   "execution_count": null,
   "metadata": {},
   "outputs": [],
   "source": []
  },
  {
   "cell_type": "code",
   "execution_count": null,
   "metadata": {},
   "outputs": [],
   "source": []
  },
  {
   "cell_type": "code",
   "execution_count": null,
   "metadata": {},
   "outputs": [],
   "source": []
  },
  {
   "cell_type": "code",
   "execution_count": null,
   "metadata": {},
   "outputs": [],
   "source": []
  },
  {
   "cell_type": "code",
   "execution_count": null,
   "metadata": {},
   "outputs": [],
   "source": []
  },
  {
   "cell_type": "code",
   "execution_count": null,
   "metadata": {},
   "outputs": [],
   "source": []
  },
  {
   "cell_type": "code",
   "execution_count": null,
   "metadata": {},
   "outputs": [],
   "source": []
  },
  {
   "cell_type": "code",
   "execution_count": null,
   "metadata": {},
   "outputs": [],
   "source": []
  },
  {
   "cell_type": "code",
   "execution_count": null,
   "metadata": {},
   "outputs": [],
   "source": []
  },
  {
   "cell_type": "code",
   "execution_count": null,
   "metadata": {},
   "outputs": [],
   "source": []
  },
  {
   "cell_type": "code",
   "execution_count": null,
   "metadata": {},
   "outputs": [],
   "source": []
  },
  {
   "cell_type": "code",
   "execution_count": null,
   "metadata": {},
   "outputs": [],
   "source": []
  },
  {
   "cell_type": "code",
   "execution_count": null,
   "metadata": {},
   "outputs": [],
   "source": []
  },
  {
   "cell_type": "code",
   "execution_count": null,
   "metadata": {},
   "outputs": [],
   "source": []
  },
  {
   "cell_type": "code",
   "execution_count": null,
   "metadata": {},
   "outputs": [],
   "source": []
  },
  {
   "cell_type": "code",
   "execution_count": null,
   "metadata": {},
   "outputs": [],
   "source": []
  },
  {
   "cell_type": "code",
   "execution_count": null,
   "metadata": {},
   "outputs": [],
   "source": []
  },
  {
   "cell_type": "code",
   "execution_count": null,
   "metadata": {},
   "outputs": [],
   "source": []
  },
  {
   "cell_type": "code",
   "execution_count": null,
   "metadata": {},
   "outputs": [],
   "source": []
  },
  {
   "cell_type": "code",
   "execution_count": null,
   "metadata": {},
   "outputs": [],
   "source": []
  },
  {
   "cell_type": "code",
   "execution_count": null,
   "metadata": {},
   "outputs": [],
   "source": []
  }
 ],
 "metadata": {
  "kernelspec": {
   "display_name": "Python 3",
   "language": "python",
   "name": "python3"
  },
  "language_info": {
   "codemirror_mode": {
    "name": "ipython",
    "version": 3
   },
   "file_extension": ".py",
   "mimetype": "text/x-python",
   "name": "python",
   "nbconvert_exporter": "python",
   "pygments_lexer": "ipython3",
   "version": "3.8.5"
  }
 },
 "nbformat": 4,
 "nbformat_minor": 4
}
